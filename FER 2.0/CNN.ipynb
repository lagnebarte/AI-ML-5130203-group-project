{
 "cells": [
  {
   "cell_type": "markdown",
   "id": "ea6becfb-c192-4015-84aa-8e0142c38fe5",
   "metadata": {},
   "source": [
    "## Preparation"
   ]
  },
  {
   "cell_type": "code",
   "execution_count": 1,
   "id": "e170f950-eb21-4b07-aefa-79b098eed9aa",
   "metadata": {},
   "outputs": [
    {
     "name": "stderr",
     "output_type": "stream",
     "text": [
      "C:\\Users\\aldem\\AppData\\Local\\Programs\\Python\\Python310\\lib\\site-packages\\tqdm\\auto.py:21: TqdmWarning: IProgress not found. Please update jupyter and ipywidgets. See https://ipywidgets.readthedocs.io/en/stable/user_install.html\n",
      "  from .autonotebook import tqdm as notebook_tqdm\n"
     ]
    }
   ],
   "source": [
    "import os\n",
    "import torch\n",
    "import torch.nn as nn\n",
    "import torch.nn.functional as F\n",
    "import numpy as np\n",
    "import pandas as pd\n",
    "import matplotlib.pyplot as plt\n",
    "from sklearn.metrics import accuracy_score, precision_score, recall_score, f1_score\n",
    "from torchvision import datasets, transforms\n",
    "from torch.utils.data import DataLoader, random_split, Dataset\n",
    "from PIL import Image\n",
    "from timm.models import create_model\n",
    "from timm.data import create_transform"
   ]
  },
  {
   "cell_type": "code",
   "execution_count": 2,
   "id": "3e1535c7-bd5a-424b-a832-c528ca0f96a5",
   "metadata": {},
   "outputs": [],
   "source": [
    "device = torch.device(\"cuda\" if torch.cuda.is_available() else \"cpu\")"
   ]
  },
  {
   "cell_type": "markdown",
   "id": "6b155887-68e6-4dff-a95e-3b2da53c1f89",
   "metadata": {},
   "source": [
    "## Dataset"
   ]
  },
  {
   "cell_type": "code",
   "execution_count": 3,
   "id": "0e528e35-99fa-443b-b9d9-60eb92581ccd",
   "metadata": {},
   "outputs": [],
   "source": [
    "root_path = r\"C:\\Users\\aldem\\IdeaProjects\\courseSeminar\\venv\\Scripts\\dataset\""
   ]
  },
  {
   "cell_type": "code",
   "execution_count": 4,
   "id": "37cbe297-9fc2-4750-bd5d-ec9c8c817b4c",
   "metadata": {},
   "outputs": [],
   "source": [
    "model_save_dir = \"C:/Users/aldem/IdeaProjects/courseSeminar/venv/Scripts/model_cnn\""
   ]
  },
  {
   "cell_type": "code",
   "execution_count": 5,
   "id": "47b6a5d6-62eb-49d7-8d91-75da4a068b3d",
   "metadata": {},
   "outputs": [],
   "source": [
    "transform = transforms.Compose([\n",
    "    transforms.Resize((110, 110)),\n",
    "    transforms.ToTensor(),\n",
    "    transforms.Normalize(mean=[0.485, 0.456, 0.406], std=[0.229, 0.224, 0.225])\n",
    "])\n"
   ]
  },
  {
   "cell_type": "code",
   "execution_count": 9,
   "id": "4576e483-eb71-4b0e-917a-dd551b126a95",
   "metadata": {},
   "outputs": [],
   "source": [
    "class CustomImageFolder(Dataset):\n",
    "    def __init__(self, root, transform=None):\n",
    "        self.root = root\n",
    "        self.transform = transform\n",
    "        self.classes, self.class_to_idx = self._find_classes(self.root)\n",
    "        self.samples = self._make_dataset(self.root, self.class_to_idx)\n",
    "\n",
    "    def _find_classes(self, dir):\n",
    "        classes = [d.name for d in os.scandir(dir) if d.is_dir() and not d.name.startswith('.')]\n",
    "        classes.sort()\n",
    "        class_to_idx = {cls_name: i for i, cls_name in enumerate(classes)}\n",
    "        return classes, class_to_idx\n",
    "\n",
    "    def _make_dataset(self, dir, class_to_idx):\n",
    "        instances = []\n",
    "        dir = os.path.expanduser(dir)\n",
    "        for target in sorted(class_to_idx.keys()):\n",
    "            d = os.path.join(dir, target)\n",
    "            if not os.path.isdir(d):\n",
    "                continue\n",
    "            for root, _, fnames in sorted(os.walk(d)):\n",
    "                for fname in sorted(fnames):\n",
    "                    if self._is_valid_file(fname):\n",
    "                        path = os.path.join(root, fname)\n",
    "                        item = (path, class_to_idx[target])\n",
    "                        instances.append(item)\n",
    "        return instances\n",
    "\n",
    "    def _is_valid_file(self, filename):\n",
    "        valid_extensions = ('.jpg', '.jpeg', '.png', '.ppm', '.bmp', '.pgm', '.tif', '.tiff', '.webp')\n",
    "        return filename.lower().endswith(valid_extensions)\n",
    "\n",
    "    def __len__(self):\n",
    "        return len(self.samples)\n",
    "\n",
    "    def __getitem__(self, idx):\n",
    "        path, target = self.samples[idx]\n",
    "        try:\n",
    "            sample = Image.open(path).convert('RGB')\n",
    "            if self.transform:\n",
    "                sample = self.transform(sample)\n",
    "            return sample, target  # Возвращаем только изображение и метку\n",
    "        except OSError:\n",
    "            print(f\"Ошибка при загрузке изображения: {path}. Пропускаем это изображение.\")\n",
    "            return self.__getitem__(0) if idx == 0 else self.__getitem__(idx - 1)\n"
   ]
  },
  {
   "cell_type": "code",
   "execution_count": 10,
   "id": "802a1960-6a60-4672-ab44-a2071c2dbcdf",
   "metadata": {},
   "outputs": [],
   "source": [
    "full_dataset = CustomImageFolder(root=root_path, transform=transform)"
   ]
  },
  {
   "cell_type": "code",
   "execution_count": 11,
   "id": "407fdec5-4a3b-4385-b339-d11653f192dc",
   "metadata": {},
   "outputs": [],
   "source": [
    "train_size = int(0.8 * len(full_dataset))\n",
    "test_size = len(full_dataset) - train_size"
   ]
  },
  {
   "cell_type": "code",
   "execution_count": 12,
   "id": "efea838f-c76e-482a-879a-8c07bf76a5c9",
   "metadata": {},
   "outputs": [],
   "source": [
    "train_dataset, test_dataset = random_split(full_dataset, [train_size, test_size])"
   ]
  },
  {
   "cell_type": "code",
   "execution_count": 13,
   "id": "00dc3257-452e-47cf-9e3e-5c2c356c07e2",
   "metadata": {},
   "outputs": [],
   "source": [
    "train_loader = DataLoader(train_dataset, batch_size=32, shuffle=True)\n",
    "test_loader = DataLoader(test_dataset, batch_size=32, shuffle=False)"
   ]
  },
  {
   "cell_type": "code",
   "execution_count": 14,
   "id": "5c46f8e1-48db-40c1-b5c6-8833adb98be2",
   "metadata": {},
   "outputs": [],
   "source": [
    "class_names = full_dataset.classes"
   ]
  },
  {
   "cell_type": "code",
   "execution_count": 15,
   "id": "2bfe8b56-64f9-4864-b590-8a7f97bf9220",
   "metadata": {},
   "outputs": [
    {
     "name": "stdout",
     "output_type": "stream",
     "text": [
      "Class: ['angry', 'happy', 'sad', 'surprise']\n"
     ]
    }
   ],
   "source": [
    "print(\"Class:\", class_names)"
   ]
  },
  {
   "cell_type": "markdown",
   "id": "dc8ec7e3-c1f7-4ab9-be94-0ef3a99e347f",
   "metadata": {},
   "source": [
    "## Build Architecture"
   ]
  },
  {
   "cell_type": "code",
   "execution_count": 16,
   "id": "b755151b-7885-472a-ac11-73f662de0265",
   "metadata": {},
   "outputs": [],
   "source": [
    "class ConvolutionalNet(nn.Module):\n",
    "    def __init__(self, num_classes=4):\n",
    "        super(ConvolutionalNet, self).__init__()\n",
    "        self.conv1 = nn.Conv2d(in_channels=3, out_channels=32, kernel_size=(3, 3), padding=1, stride=1)\n",
    "        self.bn1 = nn.BatchNorm2d(32)\n",
    "        self.conv2 = nn.Conv2d(in_channels=32, out_channels=32, kernel_size=(3, 3), padding=1, stride=1)\n",
    "        self.bn2 = nn.BatchNorm2d(32)\n",
    "        self.conv3 = nn.Conv2d(in_channels=32, out_channels=64, kernel_size=(3, 3), padding=1, stride=1)\n",
    "        self.bn3 = nn.BatchNorm2d(64)\n",
    "        self.conv4 = nn.Conv2d(in_channels=64, out_channels=64, kernel_size=(3, 3), padding=1, stride=1)\n",
    "        self.bn4 = nn.BatchNorm2d(64)\n",
    "        self.conv5 = nn.Conv2d(in_channels=64, out_channels=128, kernel_size=(3, 3), padding=1, stride=1)\n",
    "        self.bn5 = nn.BatchNorm2d(128)\n",
    "        self.conv6 = nn.Conv2d(in_channels=128, out_channels=128, kernel_size=(3, 3), padding=1, stride=1)\n",
    "        self.bn6 = nn.BatchNorm2d(128)\n",
    "        self.maxpool = nn.MaxPool2d(kernel_size=(2, 2))\n",
    "        self.adaptivepool = nn.AdaptiveAvgPool2d((1, 1))  # Используем адаптивный пулинг\n",
    "\n",
    "        self.fc1 = nn.Linear(in_features=128, out_features=512)\n",
    "        self.fc2 = nn.Linear(in_features=512, out_features=128)\n",
    "        self.fc3 = nn.Linear(in_features=128, out_features=num_classes)\n",
    "        self.bn_fc1 = nn.BatchNorm1d(512)\n",
    "        self.bn_fc2 = nn.BatchNorm1d(128)\n",
    "\n",
    "    def forward(self, x):\n",
    "        out = F.relu(self.bn1(self.conv1(x)))\n",
    "        out = F.relu(self.bn2(self.conv2(out)))\n",
    "        out = self.maxpool(out)\n",
    "        out = F.relu(self.bn3(self.conv3(out)))\n",
    "        out = F.relu(self.bn4(self.conv4(out)))\n",
    "        out = self.maxpool(out)\n",
    "        out = F.relu(self.bn5(self.conv5(out)))\n",
    "        out = F.relu(self.bn6(self.conv6(out)))\n",
    "        out = self.maxpool(out)\n",
    "        out = self.adaptivepool(out)  # Применяем адаптивный пулинг\n",
    "        out = out.view(out.size(0), -1)\n",
    "        out = F.relu(self.bn_fc1(self.fc1(out)))\n",
    "        out = F.relu(self.bn_fc2(self.fc2(out)))\n",
    "        out = self.fc3(out)\n",
    "        return out\n",
    "\n",
    "    def get_total_params(self):\n",
    "        return sum(p.numel() for p in self.parameters() if p.requires_grad)\n"
   ]
  },
  {
   "cell_type": "code",
   "execution_count": 22,
   "id": "ff50fc50-a480-4219-aca7-6c5a2e28a6ed",
   "metadata": {},
   "outputs": [],
   "source": [
    "def train_model(model, train_loader, criterion, optimizer, device):\n",
    "    model.train()\n",
    "    running_loss = 0.0\n",
    "    correct = 0\n",
    "    total = 0\n",
    "\n",
    "    for images, labels in train_loader:\n",
    "        images, labels = images.to(device), labels.to(device)\n",
    "\n",
    "        outputs = model(images)\n",
    "        loss = criterion(outputs, labels)\n",
    "\n",
    "        optimizer.zero_grad()\n",
    "        loss.backward()\n",
    "        optimizer.step()\n",
    "\n",
    "        running_loss += loss.item()\n",
    "        _, predicted = outputs.max(1)\n",
    "        total += labels.size(0)\n",
    "        correct += predicted.eq(labels).sum().item()\n",
    "\n",
    "    epoch_loss = running_loss / len(train_loader)\n",
    "    epoch_accuracy = 100.0 * correct / total\n",
    "    return epoch_loss, epoch_accuracy"
   ]
  },
  {
   "cell_type": "code",
   "execution_count": 23,
   "id": "a58d02f1-66f9-48b7-8fb3-f6f68f9eed6c",
   "metadata": {},
   "outputs": [],
   "source": [
    "def validate_model(model, validation_loader, criterion, device):\n",
    "    model.eval()\n",
    "    running_loss = 0.0\n",
    "    correct = 0\n",
    "    total = 0\n",
    "\n",
    "    with torch.no_grad():\n",
    "        for images, labels in validation_loader:\n",
    "            images, labels = images.to(device), labels.to(device)\n",
    "\n",
    "            outputs = model(images)\n",
    "            loss = criterion(outputs, labels)\n",
    "\n",
    "            running_loss += loss.item()\n",
    "            _, predicted = outputs.max(1)\n",
    "            total += labels.size(0)\n",
    "            correct += predicted.eq(labels).sum().item()\n",
    "\n",
    "    epoch_loss = running_loss / len(validation_loader)\n",
    "    epoch_accuracy = 100.0 * correct / total\n",
    "    return epoch_loss, epoch_accuracy"
   ]
  },
  {
   "cell_type": "code",
   "execution_count": 24,
   "id": "20a52625-f8cf-4a0c-bdb5-9e77bf5a1905",
   "metadata": {},
   "outputs": [],
   "source": [
    "def train_and_evaluate(model, train_loader, validation_loader, criterion, optimizer, device, num_epochs=10, model_save_dir=\"models\"):\n",
    "    best_accuracy = 0.0\n",
    "    train_losses = []\n",
    "    train_accuracies = []\n",
    "    val_losses = []\n",
    "    val_accuracies = []\n",
    "\n",
    "    os.makedirs(model_save_dir, exist_ok=True)\n",
    "\n",
    "    for epoch in range(num_epochs):\n",
    "        train_loss, train_accuracy = train_model(model, train_loader, criterion, optimizer, device)\n",
    "        val_loss, val_accuracy = validate_model(model, validation_loader, criterion, device)\n",
    "\n",
    "        train_losses.append(train_loss)\n",
    "        train_accuracies.append(train_accuracy)\n",
    "        val_losses.append(val_loss)\n",
    "        val_accuracies.append(val_accuracy)\n",
    "\n",
    "        print(f\"Epoch {epoch+1}/{num_epochs}\")\n",
    "        print(f\"  Train Loss: {train_loss:.4f}, Train Accuracy: {train_accuracy:.2f}%\")\n",
    "        print(f\"  Validation Loss: {val_loss:.4f}, Validation Accuracy: {val_accuracy:.2f}%\")\n",
    "\n",
    "        model_path = os.path.join(model_save_dir, f\"model_epoch_{epoch+1}.pt\")\n",
    "        torch.save(model.state_dict(), model_path)\n",
    "        print(f\"Model saved at {model_path}\")\n",
    "\n",
    "        if val_accuracy > best_accuracy:\n",
    "            best_accuracy = val_accuracy\n",
    "            best_model_path = model_path\n",
    "            print(f\"Best model updated with accuracy: {best_accuracy:.2f}%\")\n",
    "\n",
    "    return {\n",
    "        \"train_losses\": train_losses,\n",
    "        \"val_losses\": val_losses,\n",
    "        \"train_accuracies\": train_accuracies,\n",
    "        \"val_accuracies\": val_accuracies,\n",
    "        \"best_model_path\": best_model_path\n",
    "    }"
   ]
  },
  {
   "cell_type": "markdown",
   "id": "d96d96d6-814c-4080-8535-7f7a978e6e0e",
   "metadata": {},
   "source": [
    "## Testing"
   ]
  },
  {
   "cell_type": "code",
   "execution_count": 25,
   "id": "dfff93a8-f238-4c8c-8e03-edb23dabb74b",
   "metadata": {},
   "outputs": [],
   "source": [
    "model = ConvolutionalNet(num_classes=len(class_names)).to(device)"
   ]
  },
  {
   "cell_type": "code",
   "execution_count": 26,
   "id": "1e8e21a4-3913-44f9-8498-43b7c4c5ecad",
   "metadata": {},
   "outputs": [],
   "source": [
    "criterion = nn.CrossEntropyLoss()\n",
    "optimizer = torch.optim.Adam(model.parameters(), lr=0.001)"
   ]
  },
  {
   "cell_type": "code",
   "execution_count": 28,
   "id": "22482b3d-415d-4456-bd87-4279aa37ebf5",
   "metadata": {},
   "outputs": [
    {
     "name": "stdout",
     "output_type": "stream",
     "text": [
      "Epoch 1/40\n",
      "  Train Loss: 0.1955, Train Accuracy: 92.77%\n",
      "  Validation Loss: 0.9719, Validation Accuracy: 70.30%\n",
      "Model saved at C:/Users/aldem/IdeaProjects/courseSeminar/venv/Scripts/model_cnn\\model_epoch_1.pt\n",
      "Best model updated with accuracy: 70.30%\n",
      "Epoch 2/40\n",
      "  Train Loss: 0.1790, Train Accuracy: 93.74%\n",
      "  Validation Loss: 1.8478, Validation Accuracy: 65.51%\n",
      "Model saved at C:/Users/aldem/IdeaProjects/courseSeminar/venv/Scripts/model_cnn\\model_epoch_2.pt\n",
      "Epoch 3/40\n",
      "  Train Loss: 0.1507, Train Accuracy: 94.71%\n",
      "  Validation Loss: 1.0991, Validation Accuracy: 71.35%\n",
      "Model saved at C:/Users/aldem/IdeaProjects/courseSeminar/venv/Scripts/model_cnn\\model_epoch_3.pt\n",
      "Best model updated with accuracy: 71.35%\n",
      "Epoch 4/40\n",
      "  Train Loss: 0.1592, Train Accuracy: 94.35%\n",
      "  Validation Loss: 1.7803, Validation Accuracy: 61.43%\n",
      "Model saved at C:/Users/aldem/IdeaProjects/courseSeminar/venv/Scripts/model_cnn\\model_epoch_4.pt\n",
      "Epoch 5/40\n",
      "  Train Loss: 0.1658, Train Accuracy: 93.99%\n",
      "  Validation Loss: 1.4438, Validation Accuracy: 65.11%\n",
      "Model saved at C:/Users/aldem/IdeaProjects/courseSeminar/venv/Scripts/model_cnn\\model_epoch_5.pt\n",
      "Epoch 6/40\n",
      "  Train Loss: 0.1149, Train Accuracy: 95.94%\n",
      "  Validation Loss: 0.8833, Validation Accuracy: 76.02%\n",
      "Model saved at C:/Users/aldem/IdeaProjects/courseSeminar/venv/Scripts/model_cnn\\model_epoch_6.pt\n",
      "Best model updated with accuracy: 76.02%\n",
      "Epoch 7/40\n",
      "  Train Loss: 0.1025, Train Accuracy: 96.35%\n",
      "  Validation Loss: 0.8294, Validation Accuracy: 77.66%\n",
      "Model saved at C:/Users/aldem/IdeaProjects/courseSeminar/venv/Scripts/model_cnn\\model_epoch_7.pt\n",
      "Best model updated with accuracy: 77.66%\n",
      "Epoch 8/40\n",
      "  Train Loss: 0.0980, Train Accuracy: 96.62%\n",
      "  Validation Loss: 1.7352, Validation Accuracy: 65.51%\n",
      "Model saved at C:/Users/aldem/IdeaProjects/courseSeminar/venv/Scripts/model_cnn\\model_epoch_8.pt\n",
      "Epoch 9/40\n",
      "  Train Loss: 0.0949, Train Accuracy: 96.98%\n",
      "  Validation Loss: 0.9449, Validation Accuracy: 74.11%\n",
      "Model saved at C:/Users/aldem/IdeaProjects/courseSeminar/venv/Scripts/model_cnn\\model_epoch_9.pt\n",
      "Epoch 10/40\n",
      "  Train Loss: 0.0871, Train Accuracy: 96.96%\n",
      "  Validation Loss: 3.4361, Validation Accuracy: 52.10%\n",
      "Model saved at C:/Users/aldem/IdeaProjects/courseSeminar/venv/Scripts/model_cnn\\model_epoch_10.pt\n",
      "Epoch 11/40\n",
      "  Train Loss: 0.0879, Train Accuracy: 97.14%\n",
      "  Validation Loss: 1.2187, Validation Accuracy: 72.67%\n",
      "Model saved at C:/Users/aldem/IdeaProjects/courseSeminar/venv/Scripts/model_cnn\\model_epoch_11.pt\n",
      "Epoch 12/40\n",
      "  Train Loss: 0.0884, Train Accuracy: 96.81%\n",
      "  Validation Loss: 0.9407, Validation Accuracy: 77.86%\n",
      "Model saved at C:/Users/aldem/IdeaProjects/courseSeminar/venv/Scripts/model_cnn\\model_epoch_12.pt\n",
      "Best model updated with accuracy: 77.86%\n",
      "Epoch 13/40\n",
      "  Train Loss: 0.0913, Train Accuracy: 96.93%\n",
      "  Validation Loss: 0.7790, Validation Accuracy: 80.35%\n",
      "Model saved at C:/Users/aldem/IdeaProjects/courseSeminar/venv/Scripts/model_cnn\\model_epoch_13.pt\n",
      "Best model updated with accuracy: 80.35%\n",
      "Epoch 14/40\n",
      "  Train Loss: 0.1202, Train Accuracy: 95.94%\n",
      "  Validation Loss: 0.6747, Validation Accuracy: 80.16%\n",
      "Model saved at C:/Users/aldem/IdeaProjects/courseSeminar/venv/Scripts/model_cnn\\model_epoch_14.pt\n",
      "Epoch 15/40\n",
      "  Train Loss: 0.0507, Train Accuracy: 98.23%\n",
      "  Validation Loss: 1.8047, Validation Accuracy: 64.39%\n",
      "Model saved at C:/Users/aldem/IdeaProjects/courseSeminar/venv/Scripts/model_cnn\\model_epoch_15.pt\n",
      "Epoch 16/40\n",
      "  Train Loss: 0.0499, Train Accuracy: 98.37%\n",
      "  Validation Loss: 0.7425, Validation Accuracy: 80.16%\n",
      "Model saved at C:/Users/aldem/IdeaProjects/courseSeminar/venv/Scripts/model_cnn\\model_epoch_16.pt\n",
      "Epoch 17/40\n",
      "  Train Loss: 0.0590, Train Accuracy: 97.98%\n",
      "  Validation Loss: 2.1373, Validation Accuracy: 58.80%\n",
      "Model saved at C:/Users/aldem/IdeaProjects/courseSeminar/venv/Scripts/model_cnn\\model_epoch_17.pt\n",
      "Epoch 18/40\n",
      "  Train Loss: 0.0666, Train Accuracy: 97.78%\n",
      "  Validation Loss: 2.6876, Validation Accuracy: 54.14%\n",
      "Model saved at C:/Users/aldem/IdeaProjects/courseSeminar/venv/Scripts/model_cnn\\model_epoch_18.pt\n",
      "Epoch 19/40\n",
      "  Train Loss: 0.0654, Train Accuracy: 97.68%\n",
      "  Validation Loss: 2.6289, Validation Accuracy: 57.03%\n",
      "Model saved at C:/Users/aldem/IdeaProjects/courseSeminar/venv/Scripts/model_cnn\\model_epoch_19.pt\n",
      "Epoch 20/40\n",
      "  Train Loss: 0.0762, Train Accuracy: 97.47%\n",
      "  Validation Loss: 1.8003, Validation Accuracy: 65.77%\n",
      "Model saved at C:/Users/aldem/IdeaProjects/courseSeminar/venv/Scripts/model_cnn\\model_epoch_20.pt\n",
      "Epoch 21/40\n",
      "  Train Loss: 0.0597, Train Accuracy: 98.47%\n",
      "  Validation Loss: 2.5082, Validation Accuracy: 60.64%\n",
      "Model saved at C:/Users/aldem/IdeaProjects/courseSeminar/venv/Scripts/model_cnn\\model_epoch_21.pt\n",
      "Epoch 22/40\n",
      "  Train Loss: 0.0737, Train Accuracy: 97.34%\n",
      "  Validation Loss: 1.2973, Validation Accuracy: 74.18%\n",
      "Model saved at C:/Users/aldem/IdeaProjects/courseSeminar/venv/Scripts/model_cnn\\model_epoch_22.pt\n",
      "Epoch 23/40\n",
      "  Train Loss: 0.0480, Train Accuracy: 98.44%\n",
      "  Validation Loss: 1.2117, Validation Accuracy: 73.72%\n",
      "Model saved at C:/Users/aldem/IdeaProjects/courseSeminar/venv/Scripts/model_cnn\\model_epoch_23.pt\n",
      "Epoch 24/40\n",
      "  Train Loss: 0.0369, Train Accuracy: 99.03%\n",
      "  Validation Loss: 1.1013, Validation Accuracy: 76.22%\n",
      "Model saved at C:/Users/aldem/IdeaProjects/courseSeminar/venv/Scripts/model_cnn\\model_epoch_24.pt\n",
      "Epoch 25/40\n",
      "  Train Loss: 0.0652, Train Accuracy: 97.72%\n",
      "  Validation Loss: 1.0592, Validation Accuracy: 76.48%\n",
      "Model saved at C:/Users/aldem/IdeaProjects/courseSeminar/venv/Scripts/model_cnn\\model_epoch_25.pt\n",
      "Epoch 26/40\n",
      "  Train Loss: 0.0567, Train Accuracy: 98.00%\n",
      "  Validation Loss: 1.0313, Validation Accuracy: 76.41%\n",
      "Model saved at C:/Users/aldem/IdeaProjects/courseSeminar/venv/Scripts/model_cnn\\model_epoch_26.pt\n",
      "Epoch 27/40\n",
      "  Train Loss: 0.0490, Train Accuracy: 98.42%\n",
      "  Validation Loss: 1.4134, Validation Accuracy: 73.39%\n",
      "Model saved at C:/Users/aldem/IdeaProjects/courseSeminar/venv/Scripts/model_cnn\\model_epoch_27.pt\n",
      "Epoch 28/40\n",
      "  Train Loss: 0.0392, Train Accuracy: 98.60%\n",
      "  Validation Loss: 0.9469, Validation Accuracy: 77.66%\n",
      "Model saved at C:/Users/aldem/IdeaProjects/courseSeminar/venv/Scripts/model_cnn\\model_epoch_28.pt\n",
      "Epoch 29/40\n",
      "  Train Loss: 0.0533, Train Accuracy: 98.13%\n",
      "  Validation Loss: 1.1841, Validation Accuracy: 75.95%\n",
      "Model saved at C:/Users/aldem/IdeaProjects/courseSeminar/venv/Scripts/model_cnn\\model_epoch_29.pt\n",
      "Epoch 30/40\n",
      "  Train Loss: 0.0273, Train Accuracy: 98.97%\n",
      "  Validation Loss: 0.7377, Validation Accuracy: 83.18%\n",
      "Model saved at C:/Users/aldem/IdeaProjects/courseSeminar/venv/Scripts/model_cnn\\model_epoch_30.pt\n",
      "Best model updated with accuracy: 83.18%\n",
      "Epoch 31/40\n",
      "  Train Loss: 0.0309, Train Accuracy: 98.98%\n",
      "  Validation Loss: 2.5104, Validation Accuracy: 65.11%\n",
      "Model saved at C:/Users/aldem/IdeaProjects/courseSeminar/venv/Scripts/model_cnn\\model_epoch_31.pt\n",
      "Epoch 32/40\n",
      "  Train Loss: 0.0655, Train Accuracy: 97.60%\n",
      "  Validation Loss: 0.9588, Validation Accuracy: 77.00%\n",
      "Model saved at C:/Users/aldem/IdeaProjects/courseSeminar/venv/Scripts/model_cnn\\model_epoch_32.pt\n",
      "Epoch 33/40\n",
      "  Train Loss: 0.0350, Train Accuracy: 98.77%\n",
      "  Validation Loss: 0.8162, Validation Accuracy: 80.75%\n",
      "Model saved at C:/Users/aldem/IdeaProjects/courseSeminar/venv/Scripts/model_cnn\\model_epoch_33.pt\n",
      "Epoch 34/40\n",
      "  Train Loss: 0.0323, Train Accuracy: 98.78%\n",
      "  Validation Loss: 1.7801, Validation Accuracy: 72.86%\n",
      "Model saved at C:/Users/aldem/IdeaProjects/courseSeminar/venv/Scripts/model_cnn\\model_epoch_34.pt\n",
      "Epoch 35/40\n",
      "  Train Loss: 0.0420, Train Accuracy: 98.46%\n",
      "  Validation Loss: 0.9904, Validation Accuracy: 79.24%\n",
      "Model saved at C:/Users/aldem/IdeaProjects/courseSeminar/venv/Scripts/model_cnn\\model_epoch_35.pt\n",
      "Epoch 36/40\n",
      "  Train Loss: 0.0584, Train Accuracy: 97.96%\n",
      "  Validation Loss: 2.5782, Validation Accuracy: 57.69%\n",
      "Model saved at C:/Users/aldem/IdeaProjects/courseSeminar/venv/Scripts/model_cnn\\model_epoch_36.pt\n",
      "Epoch 37/40\n",
      "  Train Loss: 0.0422, Train Accuracy: 98.39%\n",
      "  Validation Loss: 2.3568, Validation Accuracy: 61.37%\n",
      "Model saved at C:/Users/aldem/IdeaProjects/courseSeminar/venv/Scripts/model_cnn\\model_epoch_37.pt\n",
      "Epoch 38/40\n",
      "  Train Loss: 0.0439, Train Accuracy: 98.47%\n",
      "  Validation Loss: 1.0500, Validation Accuracy: 77.53%\n",
      "Model saved at C:/Users/aldem/IdeaProjects/courseSeminar/venv/Scripts/model_cnn\\model_epoch_38.pt\n",
      "Epoch 39/40\n",
      "  Train Loss: 0.0181, Train Accuracy: 99.34%\n",
      "  Validation Loss: 2.2242, Validation Accuracy: 71.62%\n",
      "Model saved at C:/Users/aldem/IdeaProjects/courseSeminar/venv/Scripts/model_cnn\\model_epoch_39.pt\n",
      "Epoch 40/40\n",
      "  Train Loss: 0.0219, Train Accuracy: 99.11%\n",
      "  Validation Loss: 0.8617, Validation Accuracy: 81.41%\n",
      "Model saved at C:/Users/aldem/IdeaProjects/courseSeminar/venv/Scripts/model_cnn\\model_epoch_40.pt\n"
     ]
    }
   ],
   "source": [
    "results = train_and_evaluate(\n",
    "    model,\n",
    "    train_loader,\n",
    "    test_loader,\n",
    "    criterion,\n",
    "    optimizer,\n",
    "    device,\n",
    "    num_epochs=40,\n",
    "    model_save_dir=model_save_dir\n",
    ")"
   ]
  },
  {
   "cell_type": "markdown",
   "id": "1335a4a2-9e3c-4c38-8440-ccf5eeb97739",
   "metadata": {},
   "source": [
    "## Monitoring the results"
   ]
  },
  {
   "cell_type": "code",
   "execution_count": 29,
   "id": "e1edf8b8-a41f-4758-8b1d-195922af5393",
   "metadata": {},
   "outputs": [],
   "source": [
    "def monitoring_results(results, metrics, labels, title, y_label):\n",
    "    results_metrics = [results[metric] for metric in metrics]\n",
    "\n",
    "    for result, label in zip(results_metrics, labels):\n",
    "        plt.plot(result, label=label)\n",
    "\n",
    "    plt.legend(frameon=False)\n",
    "    plt.title(title)\n",
    "    plt.xlabel(\"Epochs\")\n",
    "    plt.ylabel(y_label)\n",
    "    plt.tight_layout()\n",
    "    plt.show()"
   ]
  },
  {
   "cell_type": "code",
   "execution_count": 30,
   "id": "a229d6b3-6859-44a2-a05c-aabc91d6a730",
   "metadata": {},
   "outputs": [
    {
     "data": {
      "image/png": "[encoded data removed]",
      "text/plain": [
       "<Figure size 640x480 with 1 Axes>"
      ]
     },
     "metadata": {},
     "output_type": "display_data"
    }
   ],
   "source": [
    "monitoring_results(results,\n",
    "                   metrics=[\"train_losses\", \"val_losses\"],\n",
    "                   labels=[\"Training Loss\", \"Validation Loss\"],\n",
    "                   title=\"Benchmark of Loss Function\",\n",
    "                   y_label=\"Loss\")"
   ]
  },
  {
   "cell_type": "code",
   "execution_count": 31,
   "id": "53da39d9-d6f2-4e4d-acec-0a303cdc1d38",
   "metadata": {},
   "outputs": [
    {
     "data": {
      "image/png": "[encoded data removed]",
      "text/plain": [
       "<Figure size 640x480 with 1 Axes>"
      ]
     },
     "metadata": {},
     "output_type": "display_data"
    }
   ],
   "source": [
    "monitoring_results(results,\n",
    "                   metrics=[\"train_accuracies\", \"val_accuracies\"],\n",
    "                   labels=[\"Training Accuracy\", \"Validation Accuracy\"],\n",
    "                   title=\"Benchmark of Accuracy\",\n",
    "                   y_label=\"Accuracy\")\n"
   ]
  },
  {
   "cell_type": "code",
   "execution_count": 32,
   "id": "5a95ca5a-fb0a-4370-ad2a-8bbfea27e95b",
   "metadata": {},
   "outputs": [],
   "source": [
    "best_model_path = results[\"best_model_path\"]"
   ]
  },
  {
   "cell_type": "code",
   "execution_count": 33,
   "id": "a800da6f-6a4d-492b-b6c5-b28ea6fb554f",
   "metadata": {},
   "outputs": [],
   "source": [
    "def testing(model_path, test_loader, device):\n",
    "    model = get_best_model(model_path)\n",
    "    model.eval()\n",
    "\n",
    "    test_results = []\n",
    "    lst_ytest = []\n",
    "    lst_ypred = []\n",
    "\n",
    "    with torch.no_grad():\n",
    "        for images, labels in test_loader:  \n",
    "            images, labels = images.to(device), labels.to(device)\n",
    "\n",
    "            logits = model(images)\n",
    "            y_probs = F.softmax(logits, dim=1).cpu().numpy() \n",
    "            y_pred = np.argmax(y_probs, axis=1)\n",
    "\n",
    "            lst_ytest.extend(labels.cpu().numpy())\n",
    "            lst_ypred.extend(y_pred)\n",
    "\n",
    "    accuracy = accuracy_score(lst_ytest, lst_ypred)\n",
    "    precision = precision_score(lst_ytest, lst_ypred, average='weighted')\n",
    "    recall = recall_score(lst_ytest, lst_ypred, average='weighted')\n",
    "    f1 = f1_score(lst_ytest, lst_ypred, average='weighted')\n",
    "\n",
    "    test_results.append({\n",
    "        'accuracy': accuracy,\n",
    "        'precision': precision,\n",
    "        'recall': recall,\n",
    "        'f1_score': f1\n",
    "    })\n",
    "\n",
    "    frame_results = pd.DataFrame(test_results)\n",
    "\n",
    "    return frame_results\n"
   ]
  },
  {
   "cell_type": "code",
   "execution_count": 37,
   "id": "d21a5ae9-6e5c-4ba2-8f33-069b66d2ea0e",
   "metadata": {},
   "outputs": [],
   "source": [
    "def get_best_model(model_path):\n",
    "    best_model = ConvolutionalNet()\n",
    "    best_model.load_state_dict(torch.load(model_path, map_location=torch.device(device)))\n",
    "    best_model = best_model.to(device)\n",
    "    return best_model"
   ]
  },
  {
   "cell_type": "code",
   "execution_count": 38,
   "id": "9e044873-0646-487d-bf48-1a500fbe8d15",
   "metadata": {},
   "outputs": [
    {
     "name": "stderr",
     "output_type": "stream",
     "text": [
      "C:\\Users\\aldem\\AppData\\Local\\Temp\\ipykernel_16900\\2491832358.py:3: FutureWarning: You are using `torch.load` with `weights_only=False` (the current default value), which uses the default pickle module implicitly. It is possible to construct malicious pickle data which will execute arbitrary code during unpickling (See https://github.com/pytorch/pytorch/blob/main/SECURITY.md#untrusted-models for more details). In a future release, the default value for `weights_only` will be flipped to `True`. This limits the functions that could be executed during unpickling. Arbitrary objects will no longer be allowed to be loaded via this mode unless they are explicitly allowlisted by the user via `torch.serialization.add_safe_globals`. We recommend you start setting `weights_only=True` for any use case where you don't have full control of the loaded file. Please open an issue on GitHub for any issues related to this experimental feature.\n",
      "  best_model.load_state_dict(torch.load(model_path, map_location=torch.device(device)))\n"
     ]
    }
   ],
   "source": [
    "testing_results = testing(best_model_path, test_loader, device)"
   ]
  },
  {
   "cell_type": "code",
   "execution_count": 39,
   "id": "d299830a-c844-4884-8ca3-e92773008da1",
   "metadata": {},
   "outputs": [
    {
     "name": "stdout",
     "output_type": "stream",
     "text": [
      "   accuracy  precision  recall  f1_score\n",
      "0    0.8318   0.841704  0.8318  0.831934\n"
     ]
    }
   ],
   "source": [
    "print(testing_results)"
   ]
  },
  {
   "cell_type": "markdown",
   "id": "409354fa-a325-43d7-aac6-e411a1ca4ea8",
   "metadata": {},
   "source": [
    "## Interface"
   ]
  },
  {
   "cell_type": "code",
   "execution_count": 40,
   "id": "a739a306-8f3e-4b6d-a007-43176bd3dcaa",
   "metadata": {},
   "outputs": [],
   "source": [
    "os.chdir(root_path)"
   ]
  },
  {
   "cell_type": "code",
   "execution_count": 41,
   "id": "e7566001-d138-4b97-88da-6158d5b1b142",
   "metadata": {},
   "outputs": [
    {
     "name": "stdout",
     "output_type": "stream",
     "text": [
      "Image-dim: \n",
      "torch.Size([3, 110, 110])\n",
      "Tensor of images: \n",
      "tensor([[[-2.1179, -2.1008, -2.1008,  ..., -0.3712, -0.3541, -0.3541],\n",
      "         [-2.1008, -2.1008, -2.1008,  ..., -0.3883, -0.3369, -0.3369],\n",
      "         [-2.1008, -2.1008, -2.1008,  ..., -0.3541, -0.3541, -0.3369],\n",
      "         ...,\n",
      "         [ 1.1358,  1.1187,  1.1358,  ..., -0.0116,  0.0056, -0.0287],\n",
      "         [ 1.1187,  1.1015,  1.1358,  ..., -0.0287, -0.0116, -0.0287],\n",
      "         [ 1.1015,  1.1015,  1.1015,  ..., -0.0116, -0.0116, -0.0287]],\n",
      "\n",
      "        [[-2.0182, -2.0182, -2.0182,  ..., -0.3200, -0.3025, -0.2675],\n",
      "         [-2.0182, -2.0182, -2.0182,  ..., -0.3200, -0.2675, -0.2675],\n",
      "         [-2.0182, -2.0182, -2.0182,  ..., -0.2850, -0.2850, -0.2675],\n",
      "         ...,\n",
      "         [ 0.1877,  0.1702,  0.2052,  ...,  0.1352,  0.1527,  0.1176],\n",
      "         [ 0.1702,  0.1527,  0.1877,  ...,  0.1176,  0.1352,  0.1176],\n",
      "         [ 0.1527,  0.1527,  0.1527,  ...,  0.1352,  0.1527,  0.1352]],\n",
      "\n",
      "        [[-1.7522, -1.7870, -1.7870,  ..., -0.3230, -0.2881, -0.2532],\n",
      "         [-1.7870, -1.7870, -1.7870,  ..., -0.3578, -0.3230, -0.3055],\n",
      "         [-1.7870, -1.7870, -1.7870,  ..., -0.3404, -0.3578, -0.3404],\n",
      "         ...,\n",
      "         [-0.3578, -0.3927, -0.3927,  ...,  0.1128,  0.1302,  0.0953],\n",
      "         [-0.3578, -0.4101, -0.3927,  ...,  0.0953,  0.1128,  0.0953],\n",
      "         [-0.3927, -0.3927, -0.4101,  ...,  0.1128,  0.1302,  0.1128]]])\n"
     ]
    }
   ],
   "source": [
    "print(\"Image-dim: \")\n",
    "print(next(iter(test_loader))[0][12].shape)\n",
    "print(\"Tensor of images: \")\n",
    "print(next(iter(test_loader))[0][12])"
   ]
  },
  {
   "cell_type": "code",
   "execution_count": 42,
   "id": "311f0091-03cf-468e-b1f0-7779b2bd5d79",
   "metadata": {},
   "outputs": [],
   "source": [
    "def inference(model_path, data_loader, device, sample_pos):\n",
    "    model = get_best_model(model_path)\n",
    "    model.to(device)\n",
    "    model.eval()\n",
    "\n",
    "    batch = next(iter(data_loader))\n",
    "    x_test = batch[0][sample_pos].unsqueeze(0).to(device)\n",
    "    y_test = batch[1][sample_pos].to(device)\n",
    "\n",
    "    with torch.no_grad():\n",
    "        output = model(x_test)\n",
    "        probs = F.softmax(output, dim=1)\n",
    "\n",
    "    return x_test, y_test, probs"
   ]
  },
  {
   "cell_type": "code",
   "execution_count": 43,
   "id": "35aaf743-1fd2-4d53-9d2a-15cf3246d09f",
   "metadata": {},
   "outputs": [
    {
     "name": "stderr",
     "output_type": "stream",
     "text": [
      "C:\\Users\\aldem\\AppData\\Local\\Temp\\ipykernel_16900\\2491832358.py:3: FutureWarning: You are using `torch.load` with `weights_only=False` (the current default value), which uses the default pickle module implicitly. It is possible to construct malicious pickle data which will execute arbitrary code during unpickling (See https://github.com/pytorch/pytorch/blob/main/SECURITY.md#untrusted-models for more details). In a future release, the default value for `weights_only` will be flipped to `True`. This limits the functions that could be executed during unpickling. Arbitrary objects will no longer be allowed to be loaded via this mode unless they are explicitly allowlisted by the user via `torch.serialization.add_safe_globals`. We recommend you start setting `weights_only=True` for any use case where you don't have full control of the loaded file. Please open an issue on GitHub for any issues related to this experimental feature.\n",
      "  best_model.load_state_dict(torch.load(model_path, map_location=torch.device(device)))\n"
     ]
    },
    {
     "name": "stdout",
     "output_type": "stream",
     "text": [
      "True label: 2\n",
      "Prob distribution: tensor([[3.9652e-03, 4.3229e-06, 7.3286e-01, 2.6317e-01]])\n"
     ]
    }
   ],
   "source": [
    "image, label, prob_dist = inference(model_path=best_model_path,\n",
    "                                    data_loader=test_loader,\n",
    "                                    device=device,\n",
    "                                    sample_pos=12)\n",
    "print(f\"True label: {label}\")\n",
    "print(f\"Prob distribution: {prob_dist}\")"
   ]
  },
  {
   "cell_type": "code",
   "execution_count": null,
   "id": "a08f44ae-3459-4288-9613-18ced3c4d8ee",
   "metadata": {},
   "outputs": [],
   "source": []
  }
 ],
 "metadata": {
  "kernelspec": {
   "display_name": "Python 3 (ipykernel)",
   "language": "python",
   "name": "python3"
  },
  "language_info": {
   "codemirror_mode": {
    "name": "ipython",
    "version": 3
   },
   "file_extension": ".py",
   "mimetype": "text/x-python",
   "name": "python",
   "nbconvert_exporter": "python",
   "pygments_lexer": "ipython3",
   "version": "3.10.0"
  }
 },
 "nbformat": 4,
 "nbformat_minor": 5
}
