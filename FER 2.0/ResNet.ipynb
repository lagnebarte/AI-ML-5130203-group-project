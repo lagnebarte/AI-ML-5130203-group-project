{
 "cells": [
  {
   "cell_type": "markdown",
   "id": "28fb4607-f517-45dd-b48b-a88084738bf5",
   "metadata": {},
   "source": [
    "## Preparation"
   ]
  },
  {
   "cell_type": "code",
   "execution_count": 1,
   "id": "5bb95c13-74d1-48ca-9e31-d8653640d3c2",
   "metadata": {},
   "outputs": [],
   "source": [
    "import os\n",
    "import torch\n",
    "import torch.nn as nn\n",
    "import torch.nn.functional as F\n",
    "import numpy as np\n",
    "import pandas as pd\n",
    "import matplotlib.pyplot as plt\n",
    "from sklearn.metrics import accuracy_score, precision_score, recall_score, f1_score\n",
    "from torchvision import datasets, transforms\n",
    "from torch.utils.data import DataLoader, random_split, Dataset\n",
    "from PIL import Image"
   ]
  },
  {
   "cell_type": "code",
   "execution_count": 2,
   "id": "01fad90b-71cd-4519-8262-76ed59518b07",
   "metadata": {},
   "outputs": [],
   "source": [
    "device = torch.device(\"cuda\" if torch.cuda.is_available() else \"cpu\")"
   ]
  },
  {
   "cell_type": "markdown",
   "id": "c8bbc931-41cb-4507-843a-794eb96be774",
   "metadata": {},
   "source": [
    "## Load Dataset"
   ]
  },
  {
   "cell_type": "code",
   "execution_count": 3,
   "id": "b4fb801c-a219-4222-a90d-dcbb75ee2f36",
   "metadata": {},
   "outputs": [],
   "source": [
    "root_path = r\"C:\\Users\\aldem\\IdeaProjects\\courseSeminar\\venv\\Scripts\\dataset\""
   ]
  },
  {
   "cell_type": "code",
   "execution_count": 8,
   "id": "8d20ec38-8d72-4cde-85fe-1c0832318f87",
   "metadata": {},
   "outputs": [],
   "source": [
    "model_save_dir = \"C:/Users/aldem/IdeaProjects/courseSeminar/venv/Scripts/models\""
   ]
  },
  {
   "cell_type": "code",
   "execution_count": 9,
   "id": "91ac38a6-27d0-4b49-8494-d670884ab284",
   "metadata": {},
   "outputs": [],
   "source": [
    "transform = transforms.Compose([\n",
    "    transforms.Resize((110, 110)),\n",
    "    transforms.ToTensor(),\n",
    "    transforms.Normalize(mean=[0.485, 0.456, 0.406], std=[0.229, 0.224, 0.225])\n",
    "])"
   ]
  },
  {
   "cell_type": "code",
   "execution_count": 10,
   "id": "4b686131-a2d0-4239-a583-9857ba3391c8",
   "metadata": {},
   "outputs": [],
   "source": [
    "class CustomImageFolder(Dataset):\n",
    "    def __init__(self, root, transform=None):\n",
    "        self.root = root\n",
    "        self.transform = transform\n",
    "        self.classes, self.class_to_idx = self._find_classes(self.root)\n",
    "        self.samples = self._make_dataset(self.root, self.class_to_idx)\n",
    "\n",
    "    def _find_classes(self, dir):\n",
    "        classes = [d.name for d in os.scandir(dir) if d.is_dir() and not d.name.startswith('.')]\n",
    "        classes.sort()\n",
    "        class_to_idx = {cls_name: i for i, cls_name in enumerate(classes)}\n",
    "        return classes, class_to_idx\n",
    "\n",
    "    def _make_dataset(self, dir, class_to_idx):\n",
    "        instances = []\n",
    "        dir = os.path.expanduser(dir)\n",
    "        for target in sorted(class_to_idx.keys()):\n",
    "            d = os.path.join(dir, target)\n",
    "            if not os.path.isdir(d):\n",
    "                continue\n",
    "            for root, _, fnames in sorted(os.walk(d)):\n",
    "                for fname in sorted(fnames):\n",
    "                    if self._is_valid_file(fname):\n",
    "                        path = os.path.join(root, fname)\n",
    "                        item = (path, class_to_idx[target])\n",
    "                        instances.append(item)\n",
    "        return instances\n",
    "\n",
    "    def _is_valid_file(self, filename):\n",
    "        valid_extensions = ('.jpg', '.jpeg', '.png', '.ppm', '.bmp', '.pgm', '.tif', '.tiff', '.webp')\n",
    "        return filename.lower().endswith(valid_extensions)\n",
    "\n",
    "    def __len__(self):\n",
    "        return len(self.samples)\n",
    "\n",
    "    def __getitem__(self, idx):\n",
    "        path, target = self.samples[idx]\n",
    "        try:\n",
    "            sample = Image.open(path).convert('RGB')\n",
    "            if self.transform:\n",
    "                sample = self.transform(sample)\n",
    "            return sample, target\n",
    "        except OSError:\n",
    "            print(f\"Error: {path}.\")\n",
    "            return self.__getitem__(0) if idx == 0 else self.__getitem__(idx - 1)"
   ]
  },
  {
   "cell_type": "code",
   "execution_count": 11,
   "id": "f210d7a6-8d7a-4b5f-9149-af4b37d9e50b",
   "metadata": {},
   "outputs": [],
   "source": [
    "full_dataset = CustomImageFolder(root=root_path, transform=transform)"
   ]
  },
  {
   "cell_type": "code",
   "execution_count": 12,
   "id": "6d3c8b63-909c-4146-bfc5-c04b751e51ca",
   "metadata": {},
   "outputs": [],
   "source": [
    "train_size = int(0.8 * len(full_dataset))\n",
    "test_size = len(full_dataset) - train_size"
   ]
  },
  {
   "cell_type": "code",
   "execution_count": 13,
   "id": "fd79065a-948b-4a09-9845-16e2e48bb345",
   "metadata": {},
   "outputs": [],
   "source": [
    "train_dataset, test_dataset = random_split(full_dataset, [train_size, test_size])"
   ]
  },
  {
   "cell_type": "code",
   "execution_count": 14,
   "id": "eadd93f5-ca3b-4f88-bee5-758bcf218c36",
   "metadata": {},
   "outputs": [],
   "source": [
    "train_loader = DataLoader(train_dataset, batch_size=32, shuffle=True)\n",
    "test_loader = DataLoader(test_dataset, batch_size=32, shuffle=False)"
   ]
  },
  {
   "cell_type": "code",
   "execution_count": 15,
   "id": "d8c30196-b350-4595-964a-3d45918b723b",
   "metadata": {},
   "outputs": [],
   "source": [
    "class_names = full_dataset.classes"
   ]
  },
  {
   "cell_type": "code",
   "execution_count": 16,
   "id": "8b7e1723-48b2-49d0-a9e8-72a2db6b65cf",
   "metadata": {},
   "outputs": [
    {
     "name": "stdout",
     "output_type": "stream",
     "text": [
      "Class: ['angry', 'happy', 'sad', 'surprise']\n"
     ]
    }
   ],
   "source": [
    "print(\"Class:\", class_names)"
   ]
  },
  {
   "cell_type": "markdown",
   "id": "ddbf4552-e5f3-4c6f-888a-08784f9a0423",
   "metadata": {},
   "source": [
    "## Build Architecture"
   ]
  },
  {
   "cell_type": "code",
   "execution_count": 17,
   "id": "6552e1aa-9f81-44c4-8b43-71587ace0895",
   "metadata": {},
   "outputs": [],
   "source": [
    "class ResNet(nn.Module):\n",
    "    def __init__(self, num_classes=4):\n",
    "        super(ResNet, self).__init__()\n",
    "        self.in_channels = 64\n",
    "\n",
    "        self.conv1 = nn.Conv2d(3, 64, kernel_size=7, stride=2, padding=3, bias=False)\n",
    "        self.bn1 = nn.BatchNorm2d(64)\n",
    "        self.maxpool = nn.MaxPool2d(kernel_size=3, stride=2, padding=1)\n",
    "\n",
    "        self.layer1 = self._make_layer(64, 2, stride=1)\n",
    "        self.layer2 = self._make_layer(128, 2, stride=2)\n",
    "        self.layer3 = self._make_layer(256, 2, stride=2)\n",
    "        self.layer4 = self._make_layer(512, 2, stride=2)\n",
    "\n",
    "        self.avgpool = nn.AdaptiveAvgPool2d((1, 1))\n",
    "        self.fc = nn.Linear(512, num_classes)\n",
    "\n",
    "    def _make_layer(self, out_channels, blocks, stride):\n",
    "        downsample = None\n",
    "        if stride != 1 or self.in_channels != out_channels:\n",
    "            downsample = nn.Sequential(\n",
    "                nn.Conv2d(self.in_channels, out_channels, kernel_size=1, stride=stride, bias=False),\n",
    "                nn.BatchNorm2d(out_channels),\n",
    "            )\n",
    "\n",
    "        layers = []\n",
    "        layers.append(ResidualBlock(self.in_channels, out_channels, stride, downsample))\n",
    "        self.in_channels = out_channels\n",
    "        for _ in range(1, blocks):\n",
    "            layers.append(ResidualBlock(out_channels, out_channels))\n",
    "\n",
    "        return nn.Sequential(*layers)\n",
    "\n",
    "    def forward(self, x):\n",
    "        x = torch.relu(self.bn1(self.conv1(x)))\n",
    "        x = self.maxpool(x)\n",
    "\n",
    "        x = self.layer1(x)\n",
    "        x = self.layer2(x)\n",
    "        x = self.layer3(x)\n",
    "        x = self.layer4(x)\n",
    "\n",
    "        x = self.avgpool(x)\n",
    "        x = torch.flatten(x, 1)\n",
    "        x = self.fc(x)\n",
    "\n",
    "        return x"
   ]
  },
  {
   "cell_type": "code",
   "execution_count": 18,
   "id": "93cb71e2-7d07-43f4-97f0-1a3c7324fd74",
   "metadata": {},
   "outputs": [],
   "source": [
    "class ResidualBlock(nn.Module):\n",
    "    def __init__(self, in_channels, out_channels, stride=1, downsample=None):\n",
    "        super(ResidualBlock, self).__init__()\n",
    "        self.conv1 = nn.Conv2d(in_channels, out_channels, kernel_size=3, stride=stride, padding=1, bias=False)\n",
    "        self.bn1 = nn.BatchNorm2d(out_channels)\n",
    "        self.conv2 = nn.Conv2d(out_channels, out_channels, kernel_size=3, stride=1, padding=1, bias=False)\n",
    "        self.bn2 = nn.BatchNorm2d(out_channels)\n",
    "        self.downsample = downsample\n",
    "\n",
    "    def forward(self, x):\n",
    "        identity = x\n",
    "        if self.downsample is not None:\n",
    "            identity = self.downsample(x)\n",
    "\n",
    "        out = torch.relu(self.bn1(self.conv1(x)))\n",
    "        out = self.bn2(self.conv2(out))\n",
    "        out += identity\n",
    "        out = torch.relu(out)\n",
    "        return out\n",
    "\n",
    "def get_best_model(model_path):\n",
    "    best_model = ResNet()\n",
    "    best_model.load_state_dict(torch.load(model_path, map_location=torch.device(device)))\n",
    "    best_model = best_model.to(device)\n",
    "    return best_model"
   ]
  },
  {
   "cell_type": "code",
   "execution_count": 19,
   "id": "4d0cdf16-b93f-4a9b-b137-2addb0608f93",
   "metadata": {},
   "outputs": [],
   "source": [
    "def train_model(model, train_loader, criterion, optimizer, device):\n",
    "    model.train()\n",
    "    running_loss = 0.0\n",
    "    correct = 0\n",
    "    total = 0\n",
    "\n",
    "    for images, labels in train_loader:\n",
    "        images, labels = images.to(device), labels.to(device)\n",
    "\n",
    "        outputs = model(images)\n",
    "        loss = criterion(outputs, labels)\n",
    "\n",
    "        optimizer.zero_grad()\n",
    "        loss.backward()\n",
    "        optimizer.step()\n",
    "\n",
    "        running_loss += loss.item()\n",
    "        _, predicted = outputs.max(1)\n",
    "        total += labels.size(0)\n",
    "        correct += predicted.eq(labels).sum().item()\n",
    "\n",
    "    epoch_loss = running_loss / len(train_loader)\n",
    "    epoch_accuracy = 100.0 * correct / total\n",
    "    return epoch_loss, epoch_accuracy"
   ]
  },
  {
   "cell_type": "code",
   "execution_count": 20,
   "id": "097495da-cfa9-43e6-a8ec-cdd2cc78a151",
   "metadata": {},
   "outputs": [],
   "source": [
    "def validate_model(model, validation_loader, criterion, device):\n",
    "    model.eval()\n",
    "    running_loss = 0.0\n",
    "    correct = 0\n",
    "    total = 0\n",
    "\n",
    "    with torch.no_grad():\n",
    "        for images, labels in validation_loader:\n",
    "            images, labels = images.to(device), labels.to(device)\n",
    "\n",
    "            outputs = model(images)\n",
    "            loss = criterion(outputs, labels)\n",
    "\n",
    "            running_loss += loss.item()\n",
    "            _, predicted = outputs.max(1)\n",
    "            total += labels.size(0)\n",
    "            correct += predicted.eq(labels).sum().item()\n",
    "\n",
    "    epoch_loss = running_loss / len(validation_loader)\n",
    "    epoch_accuracy = 100.0 * correct / total\n",
    "    return epoch_loss, epoch_accuracy"
   ]
  },
  {
   "cell_type": "code",
   "execution_count": 21,
   "id": "cd694bcb-6e00-4966-bb5e-c62b2316cd14",
   "metadata": {},
   "outputs": [],
   "source": [
    "def train_and_evaluate(model, train_loader, validation_loader, criterion, optimizer, device, num_epochs=10, model_save_dir=\"models\"):\n",
    "    best_accuracy = 0.0\n",
    "    train_losses = []\n",
    "    train_accuracies = []\n",
    "    val_losses = []\n",
    "    val_accuracies = []\n",
    "    os.makedirs(model_save_dir, exist_ok=True)\n",
    "\n",
    "    for epoch in range(num_epochs):\n",
    "        train_loss, train_accuracy = train_model(model, train_loader, criterion, optimizer, device)\n",
    "        val_loss, val_accuracy = validate_model(model, validation_loader, criterion, device)\n",
    "\n",
    "        train_losses.append(train_loss)\n",
    "        train_accuracies.append(train_accuracy)\n",
    "        val_losses.append(val_loss)\n",
    "        val_accuracies.append(val_accuracy)\n",
    "\n",
    "        print(f\"Epoch {epoch+1}/{num_epochs}\")\n",
    "        print(f\"  Train Loss: {train_loss:.4f}, Train Accuracy: {train_accuracy:.2f}%\")\n",
    "        print(f\"  Validation Loss: {val_loss:.4f}, Validation Accuracy: {val_accuracy:.2f}%\")\n",
    "\n",
    "        model_path = os.path.join(model_save_dir, f\"model_epoch_{epoch+1}.pt\")\n",
    "        torch.save(model.state_dict(), model_path)\n",
    "        print(f\"Model saved at {model_path}\")\n",
    "\n",
    "        if val_accuracy > best_accuracy:\n",
    "            best_accuracy = val_accuracy\n",
    "            best_model_path = model_path\n",
    "            print(f\"Best model updated with accuracy: {best_accuracy:.2f}%\")\n",
    "\n",
    "    return {\n",
    "        \"train_losses\": train_losses,\n",
    "        \"val_losses\": val_losses,\n",
    "        \"train_accuracies\": train_accuracies,\n",
    "        \"val_accuracies\": val_accuracies,\n",
    "        \"best_model_path\": best_model_path\n",
    "    }"
   ]
  },
  {
   "cell_type": "code",
   "execution_count": 22,
   "id": "a1bd8e8e-2855-4f74-a81b-43dc7d5f9e2b",
   "metadata": {},
   "outputs": [],
   "source": [
    "model = ResNet(num_classes=len(class_names)).to(device)"
   ]
  },
  {
   "cell_type": "code",
   "execution_count": 23,
   "id": "4cebf667-e7f7-4282-ac49-5457c12b2863",
   "metadata": {},
   "outputs": [],
   "source": [
    "criterion = nn.CrossEntropyLoss()\n",
    "optimizer = torch.optim.Adam(model.parameters(), lr=0.001)"
   ]
  },
  {
   "cell_type": "markdown",
   "id": "c9e1d42f-8d4a-4cce-b857-d10ea87554d0",
   "metadata": {},
   "source": [
    "## Testing"
   ]
  },
  {
   "cell_type": "code",
   "execution_count": 24,
   "id": "1070be83-4f0d-4c68-9e89-405c5a6a9eaa",
   "metadata": {},
   "outputs": [
    {
     "name": "stdout",
     "output_type": "stream",
     "text": [
      "Epoch 1/10\n",
      "  Train Loss: 1.0901, Train Accuracy: 54.75%\n",
      "  Validation Loss: 0.8840, Validation Accuracy: 63.86%\n",
      "Model saved at C:/Users/aldem/IdeaProjects/courseSeminar/venv/Scripts/models\\model_epoch_1.pt\n",
      "Best model updated with accuracy: 63.86%\n",
      "Epoch 2/10\n",
      "  Train Loss: 0.7449, Train Accuracy: 71.01%\n",
      "  Validation Loss: 0.6982, Validation Accuracy: 73.26%\n",
      "Model saved at C:/Users/aldem/IdeaProjects/courseSeminar/venv/Scripts/models\\model_epoch_2.pt\n",
      "Best model updated with accuracy: 73.26%\n",
      "Epoch 3/10\n",
      "  Train Loss: 0.5957, Train Accuracy: 77.32%\n",
      "  Validation Loss: 0.6332, Validation Accuracy: 75.23%\n",
      "Model saved at C:/Users/aldem/IdeaProjects/courseSeminar/venv/Scripts/models\\model_epoch_3.pt\n",
      "Best model updated with accuracy: 75.23%\n",
      "Epoch 4/10\n",
      "  Train Loss: 0.5015, Train Accuracy: 81.16%\n",
      "  Validation Loss: 0.5197, Validation Accuracy: 79.43%\n",
      "Model saved at C:/Users/aldem/IdeaProjects/courseSeminar/venv/Scripts/models\\model_epoch_4.pt\n",
      "Best model updated with accuracy: 79.43%\n",
      "Epoch 5/10\n",
      "  Train Loss: 0.4473, Train Accuracy: 82.98%\n",
      "  Validation Loss: 0.5475, Validation Accuracy: 79.24%\n",
      "Model saved at C:/Users/aldem/IdeaProjects/courseSeminar/venv/Scripts/models\\model_epoch_5.pt\n",
      "Epoch 6/10\n",
      "  Train Loss: 0.3590, Train Accuracy: 86.43%\n",
      "  Validation Loss: 0.4943, Validation Accuracy: 81.73%\n",
      "Model saved at C:/Users/aldem/IdeaProjects/courseSeminar/venv/Scripts/models\\model_epoch_6.pt\n",
      "Best model updated with accuracy: 81.73%\n",
      "Epoch 7/10\n",
      "  Train Loss: 0.3235, Train Accuracy: 87.42%\n",
      "  Validation Loss: 0.6225, Validation Accuracy: 78.19%\n",
      "Model saved at C:/Users/aldem/IdeaProjects/courseSeminar/venv/Scripts/models\\model_epoch_7.pt\n",
      "Epoch 8/10\n",
      "  Train Loss: 0.2394, Train Accuracy: 91.13%\n",
      "  Validation Loss: 0.5002, Validation Accuracy: 83.05%\n",
      "Model saved at C:/Users/aldem/IdeaProjects/courseSeminar/venv/Scripts/models\\model_epoch_8.pt\n",
      "Best model updated with accuracy: 83.05%\n",
      "Epoch 9/10\n",
      "  Train Loss: 0.2211, Train Accuracy: 91.54%\n",
      "  Validation Loss: 0.5927, Validation Accuracy: 81.21%\n",
      "Model saved at C:/Users/aldem/IdeaProjects/courseSeminar/venv/Scripts/models\\model_epoch_9.pt\n",
      "Epoch 10/10\n",
      "  Train Loss: 0.1716, Train Accuracy: 93.69%\n",
      "  Validation Loss: 0.5185, Validation Accuracy: 84.23%\n",
      "Model saved at C:/Users/aldem/IdeaProjects/courseSeminar/venv/Scripts/models\\model_epoch_10.pt\n",
      "Best model updated with accuracy: 84.23%\n"
     ]
    }
   ],
   "source": [
    "results = train_and_evaluate(\n",
    "    model,\n",
    "    train_loader,\n",
    "    test_loader,\n",
    "    criterion,\n",
    "    optimizer,\n",
    "    device,\n",
    "    num_epochs=10,\n",
    "    model_save_dir=model_save_dir\n",
    ")"
   ]
  },
  {
   "cell_type": "markdown",
   "id": "4a5a341f-5c18-40f0-8258-31b72d973f04",
   "metadata": {},
   "source": [
    "## Monitoring the results"
   ]
  },
  {
   "cell_type": "code",
   "execution_count": 25,
   "id": "716abecb-cbba-46d7-a0de-9b03965162f0",
   "metadata": {},
   "outputs": [],
   "source": [
    "def monitoring_results(results, metrics, labels, title, y_label):\n",
    "    results_metrics = [results[metric] for metric in metrics]\n",
    "\n",
    "    for result, label in zip(results_metrics, labels):\n",
    "        plt.plot(result, label=label)\n",
    "\n",
    "    plt.legend(frameon=False)\n",
    "    plt.title(title)\n",
    "    plt.xlabel(\"Epochs\")\n",
    "    plt.ylabel(y_label)\n",
    "    plt.tight_layout()\n",
    "    plt.show()"
   ]
  },
  {
   "cell_type": "code",
   "execution_count": 26,
   "id": "e2ad13a9-e83d-46bf-9a60-6efe5aa142f0",
   "metadata": {},
   "outputs": [
    {
     "data": {
      "image/png": "[encoded data removed]",
      "text/plain": [
       "<Figure size 640x480 with 1 Axes>"
      ]
     },
     "metadata": {},
     "output_type": "display_data"
    }
   ],
   "source": [
    "monitoring_results(results,\n",
    "                   metrics=[\"train_losses\", \"val_losses\"],\n",
    "                   labels=[\"Training Loss\", \"Validation Loss\"],\n",
    "                   title=\"Benchmark of Loss Function\",\n",
    "                   y_label=\"Loss\")"
   ]
  },
  {
   "cell_type": "code",
   "execution_count": 27,
   "id": "8a6dbb30-b0de-430b-aa63-86e5804444a6",
   "metadata": {},
   "outputs": [
    {
     "data": {
      "image/png": "[encoded data removed]",
      "text/plain": [
       "<Figure size 640x480 with 1 Axes>"
      ]
     },
     "metadata": {},
     "output_type": "display_data"
    }
   ],
   "source": [
    "monitoring_results(results,\n",
    "                   metrics=[\"train_accuracies\", \"val_accuracies\"],\n",
    "                   labels=[\"Training Accuracy\", \"Validation Accuracy\"],\n",
    "                   title=\"Benchmark of Accuracy\",\n",
    "                   y_label=\"Accuracy\")\n"
   ]
  },
  {
   "cell_type": "code",
   "execution_count": 28,
   "id": "021f5710-dbdf-470a-8a03-9cd79392943b",
   "metadata": {},
   "outputs": [],
   "source": [
    "best_model_path = results[\"best_model_path\"]"
   ]
  },
  {
   "cell_type": "code",
   "execution_count": 30,
   "id": "52fb106d-ea82-47d4-a5b1-9994efb4c6d1",
   "metadata": {},
   "outputs": [],
   "source": [
    "def testing(model_path, test_loader, device):\n",
    "    model = get_best_model(model_path)\n",
    "    model.eval()\n",
    "\n",
    "    test_results = []\n",
    "    lst_ytest = []\n",
    "    lst_ypred = []\n",
    "\n",
    "    with torch.no_grad():\n",
    "        for images, labels in test_loader:  \n",
    "            images, labels = images.to(device), labels.to(device)\n",
    "\n",
    "            logits = model(images)\n",
    "            y_probs = F.softmax(logits, dim=1).cpu().numpy() \n",
    "            y_pred = np.argmax(y_probs, axis=1)\n",
    "\n",
    "            lst_ytest.extend(labels.cpu().numpy())\n",
    "            lst_ypred.extend(y_pred)\n",
    "\n",
    "    accuracy = accuracy_score(lst_ytest, lst_ypred)\n",
    "    precision = precision_score(lst_ytest, lst_ypred, average='weighted')\n",
    "    recall = recall_score(lst_ytest, lst_ypred, average='weighted')\n",
    "    f1 = f1_score(lst_ytest, lst_ypred, average='weighted')\n",
    "\n",
    "    test_results.append({\n",
    "        'accuracy': accuracy,\n",
    "        'precision': precision,\n",
    "        'recall': recall,\n",
    "        'f1_score': f1\n",
    "    })\n",
    "\n",
    "    frame_results = pd.DataFrame(test_results)\n",
    "\n",
    "    return frame_results\n"
   ]
  },
  {
   "cell_type": "code",
   "execution_count": 31,
   "id": "501fd0a2-2285-4b19-bcb7-07c2b52272cc",
   "metadata": {},
   "outputs": [
    {
     "name": "stderr",
     "output_type": "stream",
     "text": [
      "C:\\Users\\aldem\\AppData\\Local\\Temp\\ipykernel_14520\\392467738.py:23: FutureWarning: You are using `torch.load` with `weights_only=False` (the current default value), which uses the default pickle module implicitly. It is possible to construct malicious pickle data which will execute arbitrary code during unpickling (See https://github.com/pytorch/pytorch/blob/main/SECURITY.md#untrusted-models for more details). In a future release, the default value for `weights_only` will be flipped to `True`. This limits the functions that could be executed during unpickling. Arbitrary objects will no longer be allowed to be loaded via this mode unless they are explicitly allowlisted by the user via `torch.serialization.add_safe_globals`. We recommend you start setting `weights_only=True` for any use case where you don't have full control of the loaded file. Please open an issue on GitHub for any issues related to this experimental feature.\n",
      "  best_model.load_state_dict(torch.load(model_path, map_location=torch.device(device)))\n"
     ]
    }
   ],
   "source": [
    "testing_results = testing(best_model_path, test_loader, device)"
   ]
  },
  {
   "cell_type": "code",
   "execution_count": 32,
   "id": "5c3255b0-5d73-4e07-b757-98dc30efb568",
   "metadata": {},
   "outputs": [
    {
     "name": "stdout",
     "output_type": "stream",
     "text": [
      "   accuracy  precision    recall  f1_score\n",
      "0  0.842313   0.843416  0.842313  0.841819\n"
     ]
    }
   ],
   "source": [
    "print(testing_results)"
   ]
  },
  {
   "cell_type": "markdown",
   "id": "9f4c5543-144c-44af-8cbc-40ba6d857897",
   "metadata": {},
   "source": [
    "## Interface"
   ]
  },
  {
   "cell_type": "code",
   "execution_count": 33,
   "id": "84a5962e-6679-4aa4-a619-d5dcce973d15",
   "metadata": {},
   "outputs": [],
   "source": [
    "os.chdir(root_path)"
   ]
  },
  {
   "cell_type": "code",
   "execution_count": 35,
   "id": "38656f7f-f8a7-41c7-a980-6035e7f862c6",
   "metadata": {},
   "outputs": [
    {
     "name": "stdout",
     "output_type": "stream",
     "text": [
      "Image-dim: \n",
      "torch.Size([3, 110, 110])\n",
      "Tensor of images: \n",
      "tensor([[[ 0.8276,  0.9474,  0.9646,  ..., -0.1143,  0.4679,  1.4440],\n",
      "         [ 1.5125,  1.4098,  0.9646,  ...,  0.0569,  0.0912,  0.5707],\n",
      "         [ 1.7180,  1.2899,  1.0331,  ...,  0.0569,  0.0569,  0.0741],\n",
      "         ...,\n",
      "         [ 2.0948,  2.2147,  2.2147,  ...,  1.3755,  1.3242,  1.3927],\n",
      "         [ 1.8893,  2.1975,  2.2147,  ...,  1.4612,  1.3755,  1.4612],\n",
      "         [ 1.8379,  2.1975,  2.2318,  ...,  1.5468,  1.4269,  1.5297]],\n",
      "\n",
      "        [[-0.4076, -0.2850, -0.2500,  ..., -1.1078, -0.6001,  0.3102],\n",
      "         [ 0.2927,  0.1877, -0.2500,  ..., -0.8978, -0.9328, -0.5476],\n",
      "         [ 0.4503,  0.0476, -0.1800,  ..., -0.8452, -0.8978, -0.9678],\n",
      "         ...,\n",
      "         [ 2.2535,  2.3235,  2.2885,  ...,  1.3957,  1.3431,  1.3957],\n",
      "         [ 2.0434,  2.2885,  2.2885,  ...,  1.4482,  1.3606,  1.4657],\n",
      "         [ 1.9909,  2.2710,  2.2710,  ...,  1.4482,  1.3782,  1.5007]],\n",
      "\n",
      "        [[-0.4101, -0.3055, -0.3055,  ..., -1.2467, -0.6890,  0.2696],\n",
      "         [ 0.2871,  0.1651, -0.3230,  ..., -1.0550, -1.0376, -0.5844],\n",
      "         [ 0.4614,  0.0431, -0.2358,  ..., -1.0027, -1.0201, -1.0724],\n",
      "         ...,\n",
      "         [ 2.5354,  2.5703,  2.5006,  ...,  1.4897,  1.5071,  1.5942],\n",
      "         [ 2.3088,  2.5354,  2.5006,  ...,  1.5594,  1.5245,  1.6465],\n",
      "         [ 2.2566,  2.5529,  2.5354,  ...,  1.6117,  1.5420,  1.7163]]])\n"
     ]
    }
   ],
   "source": [
    "print(\"Image-dim: \")\n",
    "print(next(iter(test_loader))[0][12].shape)\n",
    "print(\"Tensor of images: \")\n",
    "print(next(iter(test_loader))[0][12])"
   ]
  },
  {
   "cell_type": "code",
   "execution_count": 36,
   "id": "78453d39-176f-4443-9df5-d816cd687a4f",
   "metadata": {},
   "outputs": [],
   "source": [
    "def inference(model_path, data_loader, device, sample_pos):\n",
    "    model = get_best_model(model_path)\n",
    "    model.to(device)\n",
    "    model.eval()\n",
    "\n",
    "    batch = next(iter(data_loader))\n",
    "    x_test = batch[0][sample_pos].unsqueeze(0).to(device)\n",
    "    y_test = batch[1][sample_pos].to(device)\n",
    "\n",
    "    with torch.no_grad():\n",
    "        output = model(x_test)\n",
    "        probs = F.softmax(output, dim=1)\n",
    "\n",
    "    return x_test, y_test, probs"
   ]
  },
  {
   "cell_type": "code",
   "execution_count": 37,
   "id": "56c0f0d1-e76f-4a3e-9eee-98e9ecd216e6",
   "metadata": {},
   "outputs": [
    {
     "name": "stderr",
     "output_type": "stream",
     "text": [
      "C:\\Users\\aldem\\AppData\\Local\\Temp\\ipykernel_14520\\392467738.py:23: FutureWarning: You are using `torch.load` with `weights_only=False` (the current default value), which uses the default pickle module implicitly. It is possible to construct malicious pickle data which will execute arbitrary code during unpickling (See https://github.com/pytorch/pytorch/blob/main/SECURITY.md#untrusted-models for more details). In a future release, the default value for `weights_only` will be flipped to `True`. This limits the functions that could be executed during unpickling. Arbitrary objects will no longer be allowed to be loaded via this mode unless they are explicitly allowlisted by the user via `torch.serialization.add_safe_globals`. We recommend you start setting `weights_only=True` for any use case where you don't have full control of the loaded file. Please open an issue on GitHub for any issues related to this experimental feature.\n",
      "  best_model.load_state_dict(torch.load(model_path, map_location=torch.device(device)))\n"
     ]
    },
    {
     "name": "stdout",
     "output_type": "stream",
     "text": [
      "True label: 3\n",
      "Prob distribution: tensor([[9.8248e-01, 4.4067e-04, 1.1148e-04, 1.6966e-02]])\n"
     ]
    }
   ],
   "source": [
    "image, label, prob_dist = inference(model_path=best_model_path,\n",
    "                                    data_loader=test_loader,\n",
    "                                    device=device,\n",
    "                                    sample_pos=12)\n",
    "print(f\"True label: {label}\")\n",
    "print(f\"Prob distribution: {prob_dist}\")"
   ]
  },
  {
   "cell_type": "code",
   "execution_count": null,
   "id": "5c798a8a-bd99-4821-9239-2127b3cc9d9e",
   "metadata": {},
   "outputs": [],
   "source": []
  }
 ],
 "metadata": {
  "kernelspec": {
   "display_name": "Python 3 (ipykernel)",
   "language": "python",
   "name": "python3"
  },
  "language_info": {
   "codemirror_mode": {
    "name": "ipython",
    "version": 3
   },
   "file_extension": ".py",
   "mimetype": "text/x-python",
   "name": "python",
   "nbconvert_exporter": "python",
   "pygments_lexer": "ipython3",
   "version": "3.10.0"
  }
 },
 "nbformat": 4,
 "nbformat_minor": 5
}
