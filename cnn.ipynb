{
 "cells": [
  {
   "cell_type": "code",
   "execution_count": 70,
   "id": "initial_id",
   "metadata": {
    "collapsed": true,
    "ExecuteTime": {
     "end_time": "2024-12-21T01:55:53.151929600Z",
     "start_time": "2024-12-21T01:55:53.145457900Z"
    }
   },
   "outputs": [],
   "source": [
    "import os\n",
    "import numpy as np\n",
    "import matplotlib.pyplot as plt\n",
    "from sklearn.model_selection import train_test_split\n",
    "from sklearn.metrics import classification_report, confusion_matrix\n",
    "from tensorflow.keras.preprocessing.image import ImageDataGenerator\n",
    "from tensorflow.keras.models import Sequential\n",
    "from tensorflow.keras.layers import Conv2D, MaxPooling2D, Flatten, Dense, Dropout\n",
    "from tensorflow.keras.optimizers import Adam\n",
    "from tensorflow.keras.utils import to_categorical\n"
   ]
  },
  {
   "cell_type": "code",
   "execution_count": 71,
   "outputs": [],
   "source": [
    "# Параметры\n",
    "img_width, img_height = 48, 48\n",
    "batch_size = 64\n",
    "num_classes = 4  # angry, fear, happy, sad\n",
    "epochs = 50\n",
    "\n",
    "# Подготовка данных\n",
    "def load_data(data_dir):\n",
    "    images = []\n",
    "    labels = []\n",
    "    label_dict = {'angry': 0, 'fear': 1, 'happy': 2, 'sad': 3}\n",
    "\n",
    "    for label in os.listdir(data_dir):\n",
    "        if label in label_dict:\n",
    "            for img_file in os.listdir(os.path.join(data_dir, label)):\n",
    "                img_path = os.path.join(data_dir, label, img_file)\n",
    "                img = plt.imread(img_path)\n",
    "                img = np.resize(img, (img_width, img_height, 1))  # Изменение размера до 48x48 и добавление канала\n",
    "                images.append(img)\n",
    "                labels.append(label_dict[label])\n",
    "\n",
    "    return np.array(images), np.array(labels)\n"
   ],
   "metadata": {
    "collapsed": false,
    "ExecuteTime": {
     "end_time": "2024-12-21T01:55:53.181905500Z",
     "start_time": "2024-12-21T01:55:53.152928900Z"
    }
   },
   "id": "6fc3452031228b87"
  },
  {
   "cell_type": "code",
   "execution_count": 72,
   "outputs": [],
   "source": [
    "# Загрузка данных\n",
    "train_data_dir = 'dataset/train'\n",
    "test_data_dir = 'dataset/test'\n",
    "\n",
    "X_train, y_train = load_data(train_data_dir)\n",
    "X_test, y_test = load_data(test_data_dir)\n",
    "\n",
    "# Нормализация данных\n",
    "X_train = X_train.astype('float32') / 255.0\n",
    "X_test = X_test.astype('float32') / 255.0\n",
    "\n",
    "# Преобразование меток в категориальный формат\n",
    "y_train = to_categorical(y_train, num_classes)\n",
    "y_test = to_categorical(y_test, num_classes)\n"
   ],
   "metadata": {
    "collapsed": false,
    "ExecuteTime": {
     "end_time": "2024-12-21T01:56:42.196927700Z",
     "start_time": "2024-12-21T01:55:53.164920300Z"
    }
   },
   "id": "acc9eb607887c4a3"
  },
  {
   "cell_type": "code",
   "execution_count": 73,
   "outputs": [
    {
     "name": "stderr",
     "output_type": "stream",
     "text": [
      "C:\\Users\\Dim\\PycharmProjects\\holger_bro\\venv\\Lib\\site-packages\\keras\\src\\layers\\convolutional\\base_conv.py:107: UserWarning: Do not pass an `input_shape`/`input_dim` argument to a layer. When using Sequential models, prefer using an `Input(shape)` object as the first layer in the model instead.\n",
      "  super().__init__(activity_regularizer=activity_regularizer, **kwargs)\n"
     ]
    }
   ],
   "source": [
    "# Создание модели CNN\n",
    "model = Sequential()\n",
    "model.add(Conv2D(32, (3, 3), activation='relu', input_shape=(img_width, img_height, 1)))\n",
    "model.add(MaxPooling2D(pool_size=(2, 2)))\n",
    "model.add(Conv2D(64, (3, 3), activation='relu'))\n",
    "model.add(MaxPooling2D(pool_size=(2, 2)))\n",
    "model.add(Conv2D(128, (3, 3), activation='relu'))\n",
    "model.add(MaxPooling2D(pool_size=(2, 2)))\n",
    "model.add(Flatten())\n",
    "model.add(Dense(128, activation='relu'))\n",
    "model.add(Dropout(0.5))\n",
    "model.add(Dense(num_classes, activation='softmax'))\n"
   ],
   "metadata": {
    "collapsed": false,
    "ExecuteTime": {
     "end_time": "2024-12-21T01:56:42.333025800Z",
     "start_time": "2024-12-21T01:56:42.198926800Z"
    }
   },
   "id": "7704a9c5a28af6fe"
  },
  {
   "cell_type": "code",
   "execution_count": 74,
   "outputs": [],
   "source": [
    "# Компиляция модели\n",
    "model.compile(loss='categorical_crossentropy', optimizer=Adam(), metrics=['accuracy'])\n"
   ],
   "metadata": {
    "collapsed": false,
    "ExecuteTime": {
     "end_time": "2024-12-21T01:56:42.346769500Z",
     "start_time": "2024-12-21T01:56:42.332026100Z"
    }
   },
   "id": "438aa052fa6510e3"
  },
  {
   "cell_type": "code",
   "execution_count": 75,
   "outputs": [
    {
     "name": "stdout",
     "output_type": "stream",
     "text": [
      "Epoch 1/50\n",
      "\u001B[1m316/316\u001B[0m \u001B[32m━━━━━━━━━━━━━━━━━━━━\u001B[0m\u001B[37m\u001B[0m \u001B[1m17s\u001B[0m 47ms/step - accuracy: 0.3625 - loss: 1.3431 - val_accuracy: 0.4824 - val_loss: 1.1445\n",
      "Epoch 2/50\n",
      "\u001B[1m316/316\u001B[0m \u001B[32m━━━━━━━━━━━━━━━━━━━━\u001B[0m\u001B[37m\u001B[0m \u001B[1m20s\u001B[0m 46ms/step - accuracy: 0.4958 - loss: 1.1356 - val_accuracy: 0.5409 - val_loss: 1.0373\n",
      "Epoch 3/50\n",
      "\u001B[1m316/316\u001B[0m \u001B[32m━━━━━━━━━━━━━━━━━━━━\u001B[0m\u001B[37m\u001B[0m \u001B[1m15s\u001B[0m 46ms/step - accuracy: 0.5406 - loss: 1.0470 - val_accuracy: 0.5830 - val_loss: 0.9698\n",
      "Epoch 4/50\n",
      "\u001B[1m316/316\u001B[0m \u001B[32m━━━━━━━━━━━━━━━━━━━━\u001B[0m\u001B[37m\u001B[0m \u001B[1m15s\u001B[0m 46ms/step - accuracy: 0.5904 - loss: 0.9668 - val_accuracy: 0.5878 - val_loss: 0.9566\n",
      "Epoch 5/50\n",
      "\u001B[1m316/316\u001B[0m \u001B[32m━━━━━━━━━━━━━━━━━━━━\u001B[0m\u001B[37m\u001B[0m \u001B[1m15s\u001B[0m 46ms/step - accuracy: 0.6086 - loss: 0.9160 - val_accuracy: 0.6064 - val_loss: 0.9142\n",
      "Epoch 6/50\n",
      "\u001B[1m316/316\u001B[0m \u001B[32m━━━━━━━━━━━━━━━━━━━━\u001B[0m\u001B[37m\u001B[0m \u001B[1m15s\u001B[0m 47ms/step - accuracy: 0.6293 - loss: 0.8720 - val_accuracy: 0.6161 - val_loss: 0.8993\n",
      "Epoch 7/50\n",
      "\u001B[1m316/316\u001B[0m \u001B[32m━━━━━━━━━━━━━━━━━━━━\u001B[0m\u001B[37m\u001B[0m \u001B[1m15s\u001B[0m 46ms/step - accuracy: 0.6516 - loss: 0.8370 - val_accuracy: 0.6230 - val_loss: 0.8949\n",
      "Epoch 8/50\n",
      "\u001B[1m316/316\u001B[0m \u001B[32m━━━━━━━━━━━━━━━━━━━━\u001B[0m\u001B[37m\u001B[0m \u001B[1m15s\u001B[0m 46ms/step - accuracy: 0.6607 - loss: 0.8063 - val_accuracy: 0.6261 - val_loss: 0.8916\n",
      "Epoch 9/50\n",
      "\u001B[1m316/316\u001B[0m \u001B[32m━━━━━━━━━━━━━━━━━━━━\u001B[0m\u001B[37m\u001B[0m \u001B[1m15s\u001B[0m 47ms/step - accuracy: 0.6805 - loss: 0.7656 - val_accuracy: 0.6372 - val_loss: 0.8731\n",
      "Epoch 10/50\n",
      "\u001B[1m316/316\u001B[0m \u001B[32m━━━━━━━━━━━━━━━━━━━━\u001B[0m\u001B[37m\u001B[0m \u001B[1m15s\u001B[0m 46ms/step - accuracy: 0.6901 - loss: 0.7433 - val_accuracy: 0.6433 - val_loss: 0.8800\n",
      "Epoch 11/50\n",
      "\u001B[1m316/316\u001B[0m \u001B[32m━━━━━━━━━━━━━━━━━━━━\u001B[0m\u001B[37m\u001B[0m \u001B[1m14s\u001B[0m 45ms/step - accuracy: 0.7007 - loss: 0.7174 - val_accuracy: 0.6410 - val_loss: 0.8917\n",
      "Epoch 12/50\n",
      "\u001B[1m316/316\u001B[0m \u001B[32m━━━━━━━━━━━━━━━━━━━━\u001B[0m\u001B[37m\u001B[0m \u001B[1m15s\u001B[0m 46ms/step - accuracy: 0.7172 - loss: 0.6791 - val_accuracy: 0.6495 - val_loss: 0.8829\n",
      "Epoch 13/50\n",
      "\u001B[1m316/316\u001B[0m \u001B[32m━━━━━━━━━━━━━━━━━━━━\u001B[0m\u001B[37m\u001B[0m \u001B[1m14s\u001B[0m 45ms/step - accuracy: 0.7358 - loss: 0.6435 - val_accuracy: 0.6429 - val_loss: 0.9060\n",
      "Epoch 14/50\n",
      "\u001B[1m316/316\u001B[0m \u001B[32m━━━━━━━━━━━━━━━━━━━━\u001B[0m\u001B[37m\u001B[0m \u001B[1m14s\u001B[0m 45ms/step - accuracy: 0.7425 - loss: 0.6234 - val_accuracy: 0.6510 - val_loss: 0.9323\n",
      "Epoch 15/50\n",
      "\u001B[1m316/316\u001B[0m \u001B[32m━━━━━━━━━━━━━━━━━━━━\u001B[0m\u001B[37m\u001B[0m \u001B[1m14s\u001B[0m 45ms/step - accuracy: 0.7573 - loss: 0.5828 - val_accuracy: 0.6491 - val_loss: 0.9475\n",
      "Epoch 16/50\n",
      "\u001B[1m316/316\u001B[0m \u001B[32m━━━━━━━━━━━━━━━━━━━━\u001B[0m\u001B[37m\u001B[0m \u001B[1m15s\u001B[0m 46ms/step - accuracy: 0.7747 - loss: 0.5490 - val_accuracy: 0.6538 - val_loss: 0.9759\n",
      "Epoch 17/50\n",
      "\u001B[1m316/316\u001B[0m \u001B[32m━━━━━━━━━━━━━━━━━━━━\u001B[0m\u001B[37m\u001B[0m \u001B[1m15s\u001B[0m 46ms/step - accuracy: 0.7826 - loss: 0.5235 - val_accuracy: 0.6475 - val_loss: 0.9688\n",
      "Epoch 18/50\n",
      "\u001B[1m316/316\u001B[0m \u001B[32m━━━━━━━━━━━━━━━━━━━━\u001B[0m\u001B[37m\u001B[0m \u001B[1m21s\u001B[0m 46ms/step - accuracy: 0.7914 - loss: 0.5020 - val_accuracy: 0.6451 - val_loss: 1.0223\n",
      "Epoch 19/50\n",
      "\u001B[1m316/316\u001B[0m \u001B[32m━━━━━━━━━━━━━━━━━━━━\u001B[0m\u001B[37m\u001B[0m \u001B[1m14s\u001B[0m 46ms/step - accuracy: 0.8036 - loss: 0.4714 - val_accuracy: 0.6408 - val_loss: 1.0734\n",
      "Epoch 20/50\n",
      "\u001B[1m316/316\u001B[0m \u001B[32m━━━━━━━━━━━━━━━━━━━━\u001B[0m\u001B[37m\u001B[0m \u001B[1m14s\u001B[0m 45ms/step - accuracy: 0.8068 - loss: 0.4585 - val_accuracy: 0.6457 - val_loss: 1.0776\n",
      "Epoch 21/50\n",
      "\u001B[1m316/316\u001B[0m \u001B[32m━━━━━━━━━━━━━━━━━━━━\u001B[0m\u001B[37m\u001B[0m \u001B[1m15s\u001B[0m 48ms/step - accuracy: 0.8270 - loss: 0.4273 - val_accuracy: 0.6443 - val_loss: 1.1491\n",
      "Epoch 22/50\n",
      "\u001B[1m316/316\u001B[0m \u001B[32m━━━━━━━━━━━━━━━━━━━━\u001B[0m\u001B[37m\u001B[0m \u001B[1m14s\u001B[0m 46ms/step - accuracy: 0.8308 - loss: 0.4137 - val_accuracy: 0.6487 - val_loss: 1.1591\n",
      "Epoch 23/50\n",
      "\u001B[1m316/316\u001B[0m \u001B[32m━━━━━━━━━━━━━━━━━━━━\u001B[0m\u001B[37m\u001B[0m \u001B[1m15s\u001B[0m 46ms/step - accuracy: 0.8428 - loss: 0.3813 - val_accuracy: 0.6439 - val_loss: 1.2760\n",
      "Epoch 24/50\n",
      "\u001B[1m316/316\u001B[0m \u001B[32m━━━━━━━━━━━━━━━━━━━━\u001B[0m\u001B[37m\u001B[0m \u001B[1m14s\u001B[0m 45ms/step - accuracy: 0.8455 - loss: 0.3786 - val_accuracy: 0.6412 - val_loss: 1.2697\n",
      "Epoch 25/50\n",
      "\u001B[1m316/316\u001B[0m \u001B[32m━━━━━━━━━━━━━━━━━━━━\u001B[0m\u001B[37m\u001B[0m \u001B[1m14s\u001B[0m 45ms/step - accuracy: 0.8549 - loss: 0.3625 - val_accuracy: 0.6449 - val_loss: 1.3354\n",
      "Epoch 26/50\n",
      "\u001B[1m316/316\u001B[0m \u001B[32m━━━━━━━━━━━━━━━━━━━━\u001B[0m\u001B[37m\u001B[0m \u001B[1m15s\u001B[0m 46ms/step - accuracy: 0.8626 - loss: 0.3354 - val_accuracy: 0.6453 - val_loss: 1.5146\n",
      "Epoch 27/50\n",
      "\u001B[1m316/316\u001B[0m \u001B[32m━━━━━━━━━━━━━━━━━━━━\u001B[0m\u001B[37m\u001B[0m \u001B[1m14s\u001B[0m 45ms/step - accuracy: 0.8685 - loss: 0.3154 - val_accuracy: 0.6453 - val_loss: 1.4178\n",
      "Epoch 28/50\n",
      "\u001B[1m316/316\u001B[0m \u001B[32m━━━━━━━━━━━━━━━━━━━━\u001B[0m\u001B[37m\u001B[0m \u001B[1m14s\u001B[0m 45ms/step - accuracy: 0.8740 - loss: 0.3033 - val_accuracy: 0.6386 - val_loss: 1.4239\n",
      "Epoch 29/50\n",
      "\u001B[1m316/316\u001B[0m \u001B[32m━━━━━━━━━━━━━━━━━━━━\u001B[0m\u001B[37m\u001B[0m \u001B[1m15s\u001B[0m 46ms/step - accuracy: 0.8699 - loss: 0.3074 - val_accuracy: 0.6408 - val_loss: 1.5346\n",
      "Epoch 30/50\n",
      "\u001B[1m316/316\u001B[0m \u001B[32m━━━━━━━━━━━━━━━━━━━━\u001B[0m\u001B[37m\u001B[0m \u001B[1m15s\u001B[0m 46ms/step - accuracy: 0.8764 - loss: 0.2928 - val_accuracy: 0.6323 - val_loss: 1.6620\n",
      "Epoch 31/50\n",
      "\u001B[1m316/316\u001B[0m \u001B[32m━━━━━━━━━━━━━━━━━━━━\u001B[0m\u001B[37m\u001B[0m \u001B[1m14s\u001B[0m 45ms/step - accuracy: 0.8912 - loss: 0.2758 - val_accuracy: 0.6364 - val_loss: 1.5960\n",
      "Epoch 32/50\n",
      "\u001B[1m316/316\u001B[0m \u001B[32m━━━━━━━━━━━━━━━━━━━━\u001B[0m\u001B[37m\u001B[0m \u001B[1m16s\u001B[0m 50ms/step - accuracy: 0.8894 - loss: 0.2661 - val_accuracy: 0.6416 - val_loss: 1.6591\n",
      "Epoch 33/50\n",
      "\u001B[1m316/316\u001B[0m \u001B[32m━━━━━━━━━━━━━━━━━━━━\u001B[0m\u001B[37m\u001B[0m \u001B[1m14s\u001B[0m 45ms/step - accuracy: 0.8933 - loss: 0.2578 - val_accuracy: 0.6372 - val_loss: 1.8453\n",
      "Epoch 34/50\n",
      "\u001B[1m316/316\u001B[0m \u001B[32m━━━━━━━━━━━━━━━━━━━━\u001B[0m\u001B[37m\u001B[0m \u001B[1m14s\u001B[0m 45ms/step - accuracy: 0.8925 - loss: 0.2558 - val_accuracy: 0.6439 - val_loss: 1.8021\n",
      "Epoch 35/50\n",
      "\u001B[1m316/316\u001B[0m \u001B[32m━━━━━━━━━━━━━━━━━━━━\u001B[0m\u001B[37m\u001B[0m \u001B[1m14s\u001B[0m 45ms/step - accuracy: 0.9004 - loss: 0.2467 - val_accuracy: 0.6338 - val_loss: 1.9000\n",
      "Epoch 36/50\n",
      "\u001B[1m316/316\u001B[0m \u001B[32m━━━━━━━━━━━━━━━━━━━━\u001B[0m\u001B[37m\u001B[0m \u001B[1m14s\u001B[0m 46ms/step - accuracy: 0.9102 - loss: 0.2327 - val_accuracy: 0.6394 - val_loss: 1.8206\n",
      "Epoch 37/50\n",
      "\u001B[1m316/316\u001B[0m \u001B[32m━━━━━━━━━━━━━━━━━━━━\u001B[0m\u001B[37m\u001B[0m \u001B[1m14s\u001B[0m 45ms/step - accuracy: 0.9032 - loss: 0.2324 - val_accuracy: 0.6360 - val_loss: 1.9841\n",
      "Epoch 38/50\n",
      "\u001B[1m316/316\u001B[0m \u001B[32m━━━━━━━━━━━━━━━━━━━━\u001B[0m\u001B[37m\u001B[0m \u001B[1m14s\u001B[0m 45ms/step - accuracy: 0.9149 - loss: 0.2152 - val_accuracy: 0.6289 - val_loss: 1.8853\n",
      "Epoch 39/50\n",
      "\u001B[1m316/316\u001B[0m \u001B[32m━━━━━━━━━━━━━━━━━━━━\u001B[0m\u001B[37m\u001B[0m \u001B[1m14s\u001B[0m 45ms/step - accuracy: 0.9043 - loss: 0.2317 - val_accuracy: 0.6408 - val_loss: 2.1688\n",
      "Epoch 40/50\n",
      "\u001B[1m316/316\u001B[0m \u001B[32m━━━━━━━━━━━━━━━━━━━━\u001B[0m\u001B[37m\u001B[0m \u001B[1m15s\u001B[0m 47ms/step - accuracy: 0.9135 - loss: 0.2085 - val_accuracy: 0.6362 - val_loss: 2.1217\n",
      "Epoch 41/50\n",
      "\u001B[1m316/316\u001B[0m \u001B[32m━━━━━━━━━━━━━━━━━━━━\u001B[0m\u001B[37m\u001B[0m \u001B[1m15s\u001B[0m 48ms/step - accuracy: 0.9178 - loss: 0.2070 - val_accuracy: 0.6388 - val_loss: 2.0724\n",
      "Epoch 42/50\n",
      "\u001B[1m316/316\u001B[0m \u001B[32m━━━━━━━━━━━━━━━━━━━━\u001B[0m\u001B[37m\u001B[0m \u001B[1m14s\u001B[0m 45ms/step - accuracy: 0.9164 - loss: 0.2015 - val_accuracy: 0.6461 - val_loss: 2.1201\n",
      "Epoch 43/50\n",
      "\u001B[1m316/316\u001B[0m \u001B[32m━━━━━━━━━━━━━━━━━━━━\u001B[0m\u001B[37m\u001B[0m \u001B[1m14s\u001B[0m 45ms/step - accuracy: 0.9196 - loss: 0.1923 - val_accuracy: 0.6346 - val_loss: 2.1111\n",
      "Epoch 44/50\n",
      "\u001B[1m316/316\u001B[0m \u001B[32m━━━━━━━━━━━━━━━━━━━━\u001B[0m\u001B[37m\u001B[0m \u001B[1m14s\u001B[0m 45ms/step - accuracy: 0.9223 - loss: 0.1948 - val_accuracy: 0.6418 - val_loss: 2.2946\n",
      "Epoch 45/50\n",
      "\u001B[1m316/316\u001B[0m \u001B[32m━━━━━━━━━━━━━━━━━━━━\u001B[0m\u001B[37m\u001B[0m \u001B[1m14s\u001B[0m 45ms/step - accuracy: 0.9253 - loss: 0.1889 - val_accuracy: 0.6352 - val_loss: 2.3207\n",
      "Epoch 46/50\n",
      "\u001B[1m316/316\u001B[0m \u001B[32m━━━━━━━━━━━━━━━━━━━━\u001B[0m\u001B[37m\u001B[0m \u001B[1m14s\u001B[0m 45ms/step - accuracy: 0.9271 - loss: 0.1810 - val_accuracy: 0.6319 - val_loss: 2.1882\n",
      "Epoch 47/50\n",
      "\u001B[1m316/316\u001B[0m \u001B[32m━━━━━━━━━━━━━━━━━━━━\u001B[0m\u001B[37m\u001B[0m \u001B[1m15s\u001B[0m 46ms/step - accuracy: 0.9242 - loss: 0.1872 - val_accuracy: 0.6388 - val_loss: 2.3697\n",
      "Epoch 48/50\n",
      "\u001B[1m316/316\u001B[0m \u001B[32m━━━━━━━━━━━━━━━━━━━━\u001B[0m\u001B[37m\u001B[0m \u001B[1m14s\u001B[0m 45ms/step - accuracy: 0.9286 - loss: 0.1783 - val_accuracy: 0.6398 - val_loss: 2.4670\n",
      "Epoch 49/50\n",
      "\u001B[1m316/316\u001B[0m \u001B[32m━━━━━━━━━━━━━━━━━━━━\u001B[0m\u001B[37m\u001B[0m \u001B[1m14s\u001B[0m 45ms/step - accuracy: 0.9272 - loss: 0.1754 - val_accuracy: 0.6317 - val_loss: 2.4380\n",
      "Epoch 50/50\n",
      "\u001B[1m316/316\u001B[0m \u001B[32m━━━━━━━━━━━━━━━━━━━━\u001B[0m\u001B[37m\u001B[0m \u001B[1m15s\u001B[0m 47ms/step - accuracy: 0.9280 - loss: 0.1776 - val_accuracy: 0.6437 - val_loss: 2.4635\n"
     ]
    }
   ],
   "source": [
    "# Обучение модели\n",
    "history = model.fit(X_train, y_train, batch_size=batch_size, epochs=epochs, validation_data=(X_test, y_test))\n"
   ],
   "metadata": {
    "collapsed": false,
    "ExecuteTime": {
     "end_time": "2024-12-21T02:09:01.146531400Z",
     "start_time": "2024-12-21T01:56:42.348769Z"
    }
   },
   "id": "79456ab61630c14a"
  },
  {
   "cell_type": "code",
   "execution_count": 76,
   "outputs": [
    {
     "name": "stdout",
     "output_type": "stream",
     "text": [
      "Test loss: 2.4634580612182617\n",
      "Test accuracy: 0.6436665058135986\n",
      "\u001B[1m155/155\u001B[0m \u001B[32m━━━━━━━━━━━━━━━━━━━━\u001B[0m\u001B[37m\u001B[0m \u001B[1m1s\u001B[0m 7ms/step\n"
     ]
    }
   ],
   "source": [
    "# Оценка модели\n",
    "score = model.evaluate(X_test, y_test, verbose=0)\n",
    "print('Test loss:', score[0])\n",
    "print('Test accuracy:', score[1])\n",
    "\n",
    "# Прогнозирование\n",
    "y_pred = model.predict(X_test)\n",
    "y_pred_classes = np.argmax(y_pred, axis=1)\n",
    "y_true = np.argmax(y_test, axis=1)\n"
   ],
   "metadata": {
    "collapsed": false,
    "ExecuteTime": {
     "end_time": "2024-12-21T02:09:03.567311700Z",
     "start_time": "2024-12-21T02:09:01.135540500Z"
    }
   },
   "id": "8371e78fc5df526e"
  },
  {
   "cell_type": "code",
   "execution_count": 77,
   "outputs": [
    {
     "name": "stdout",
     "output_type": "stream",
     "text": [
      "              precision    recall  f1-score   support\n",
      "\n",
      "       angry       0.53      0.53      0.53       960\n",
      "        fear       0.58      0.43      0.50      1018\n",
      "       happy       0.82      0.84      0.83      1825\n",
      "         sad       0.51      0.61      0.56      1139\n",
      "\n",
      "    accuracy                           0.64      4942\n",
      "   macro avg       0.61      0.60      0.60      4942\n",
      "weighted avg       0.65      0.64      0.64      4942\n",
      "[[ 510  103  115  232]\n",
      " [ 170  440   92  316]\n",
      " [  98   71 1533  123]\n",
      " [ 181  140  120  698]]\n"
     ]
    },
    {
     "data": {
      "text/plain": "<Figure size 640x480 with 1 Axes>",
      "image/png": "[encoded data removed]"
     },
     "metadata": {},
     "output_type": "display_data"
    }
   ],
   "source": [
    "# Отчет о классификации\n",
    "print(classification_report(y_true, y_pred_classes, target_names=['angry', 'fear', 'happy', 'sad']))\n",
    "print(confusion_matrix(y_true, y_pred_classes))\n",
    "\n",
    "# Визуализация результатов\n",
    "plt.plot(history.history['accuracy'], label='accuracy')\n",
    "plt.plot(history.history['val_accuracy'], label='val_accuracy')\n",
    "plt.title('Model accuracy')\n",
    "plt.ylabel('Accuracy')\n",
    "plt.xlabel('Epoch')\n",
    "plt.legend()\n",
    "plt.show()\n"
   ],
   "metadata": {
    "collapsed": false,
    "ExecuteTime": {
     "end_time": "2024-12-21T02:09:04.052555500Z",
     "start_time": "2024-12-21T02:09:03.570310700Z"
    }
   },
   "id": "25bc4b9585ec9ebf"
  }
 ],
 "metadata": {
  "kernelspec": {
   "display_name": "Python 3",
   "language": "python",
   "name": "python3"
  },
  "language_info": {
   "codemirror_mode": {
    "name": "ipython",
    "version": 2
   },
   "file_extension": ".py",
   "mimetype": "text/x-python",
   "name": "python",
   "nbconvert_exporter": "python",
   "pygments_lexer": "ipython2",
   "version": "2.7.6"
  }
 },
 "nbformat": 4,
 "nbformat_minor": 5
}
